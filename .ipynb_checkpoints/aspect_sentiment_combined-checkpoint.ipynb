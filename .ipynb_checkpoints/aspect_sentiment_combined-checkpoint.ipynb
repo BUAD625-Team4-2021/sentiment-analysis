{
 "cells": [
  {
   "cell_type": "markdown",
   "metadata": {},
   "source": [
    "# To raise with professor\n",
    " - Fine tuning for hyperparameters didn't take multiclass, so neutral/positive recoded to 0. Alright?"
   ]
  },
  {
   "cell_type": "markdown",
   "metadata": {},
   "source": [
    "# Aspect Identifying\n",
    "### Running through the tweets, based on Harry Wang's Document Clustering \n",
    "###### 7/6 - Assigment 4\n",
    "<p> We take the tweets out of the data, clean them of html, hashtags and mentions, then run the text through a tokenizer before identifying the most common words/phrases throughout the tweets. Those common words/phrases are then the aspects we base the clustering of the tweets on. As of right now, the model is using singular terms with a fixed dictionary, the hope is to move towards a dynamic dictionary that grows with the new data recieved.</p>\n",
    "\n",
    "###### 7/12 - Assigment 5\n",
    "<p>We are now showing the top 10 words per cluster and doing postprocessing on those words for cluster assignment. Instead of trying to assign one cluster at first, each tweet has been given a cluster ranking, indicating how much of a cluster each one is assigned to. Also, we have added in clustering by k-means to determine the amount of clusters there should be through a scientific and data-driven approach, rather than 5 for convenience.</p>"
   ]
  },
  {
   "cell_type": "code",
   "execution_count": null,
   "metadata": {},
   "outputs": [],
   "source": [
    "import preprocessor as p #https://pypi.org/project/tweet-preprocessor/\n",
    "import numpy as np\n",
    "import pandas as pd\n",
    "import nltk\n",
    "#nltk.download('stopwords')\n",
    "#nltk.download('punkt')\n",
    "from nltk.stem.snowball import SnowballStemmer\n",
    "from bs4 import BeautifulSoup\n",
    "import re\n",
    "import os\n",
    "import codecs\n",
    "from sklearn import feature_extraction\n",
    "import string\n",
    "from collections import Counter\n",
    "from nltk.tokenize import word_tokenize\n",
    "from nltk.corpus import stopwords"
   ]
  },
  {
   "cell_type": "markdown",
   "metadata": {},
   "source": [
    "Read the tweets"
   ]
  },
  {
   "cell_type": "code",
   "execution_count": null,
   "metadata": {},
   "outputs": [],
   "source": [
    "df = pd.read_csv('data/Tweets.csv')\n",
    "tweets = df.text\n",
    "df.head()"
   ]
  },
  {
   "cell_type": "code",
   "execution_count": null,
   "metadata": {},
   "outputs": [],
   "source": [
    "len(tweets)"
   ]
  },
  {
   "cell_type": "code",
   "execution_count": null,
   "metadata": {},
   "outputs": [],
   "source": [
    "tweet = tweets[0]"
   ]
  },
  {
   "cell_type": "code",
   "execution_count": null,
   "metadata": {},
   "outputs": [],
   "source": [
    "tweet"
   ]
  },
  {
   "cell_type": "code",
   "execution_count": null,
   "metadata": {},
   "outputs": [],
   "source": [
    "tweet = p.clean(tweet)"
   ]
  },
  {
   "cell_type": "code",
   "execution_count": null,
   "metadata": {},
   "outputs": [],
   "source": [
    "tweet"
   ]
  },
  {
   "cell_type": "code",
   "execution_count": null,
   "metadata": {},
   "outputs": [],
   "source": [
    "#tweets"
   ]
  },
  {
   "cell_type": "code",
   "execution_count": null,
   "metadata": {},
   "outputs": [],
   "source": [
    "new_tweets = []\n",
    "for tweet in tweets:\n",
    "    tweet = tweet.lower()\n",
    "    tweet = BeautifulSoup(tweet, 'html.parser').getText()\n",
    "    tweet = p.clean(tweet)\n",
    "    new_tweets.append(tweet)"
   ]
  },
  {
   "cell_type": "code",
   "execution_count": null,
   "metadata": {},
   "outputs": [],
   "source": [
    "tweets = new_tweets\n",
    "#tweets"
   ]
  },
  {
   "cell_type": "code",
   "execution_count": null,
   "metadata": {},
   "outputs": [],
   "source": [
    "stopwords = nltk.corpus.stopwords.words('english')\n",
    "\n",
    "stemmer = SnowballStemmer(\"english\")"
   ]
  },
  {
   "cell_type": "code",
   "execution_count": null,
   "metadata": {},
   "outputs": [],
   "source": [
    "def tokenize_and_stem(text):\n",
    "    tokens = [word for sent in nltk.sent_tokenize(text) for word in nltk.word_tokenize(sent)]\n",
    "    filtered_tokens = []\n",
    "    for token in tokens:\n",
    "        if re.search('[a-zA-Z]', token):\n",
    "            filtered_tokens.append(token)\n",
    "    stems = [stemmer.stem(t) for t in filtered_tokens]\n",
    "    return stems"
   ]
  },
  {
   "cell_type": "code",
   "execution_count": null,
   "metadata": {},
   "outputs": [],
   "source": [
    "def tokenize_only(text):\n",
    "    tokens = [word.lower() for sent in nltk.sent_tokenize(text) for word in nltk.word_tokenize(sent)]\n",
    "    filtered_tokens = []\n",
    "    for token in tokens:\n",
    "        if re.search('[a-zA-Z]', token):\n",
    "            filtered_tokens.append(token)\n",
    "    return filtered_tokens"
   ]
  },
  {
   "cell_type": "code",
   "execution_count": null,
   "metadata": {},
   "outputs": [],
   "source": [
    "totalvocab_stemmed = []\n",
    "totalvocab_tokenized = []\n",
    "for i in tweets:\n",
    "    allwords_stemmed = tokenize_and_stem(i) # for each item in 'tweets', tokenize/stem\n",
    "    totalvocab_stemmed.extend(allwords_stemmed) # extend the 'totalvocab_stemmed' list\n",
    "    \n",
    "    allwords_tokenized = tokenize_only(i)\n",
    "    totalvocab_tokenized.extend(allwords_tokenized)"
   ]
  },
  {
   "cell_type": "code",
   "execution_count": null,
   "metadata": {},
   "outputs": [],
   "source": [
    "vocab_frame = pd.DataFrame({'words': totalvocab_tokenized}, index = totalvocab_stemmed)"
   ]
  },
  {
   "cell_type": "code",
   "execution_count": null,
   "metadata": {},
   "outputs": [],
   "source": [
    "#https://www.kaggle.com/jbencina/clustering-documents-with-tfidf-and-kmeans\n",
    "import numpy as np\n",
    "import pandas as pd\n",
    "import matplotlib.pyplot as plt\n",
    "import matplotlib.cm as cm\n",
    "\n",
    "from sklearn.cluster import MiniBatchKMeans\n",
    "from sklearn.feature_extraction.text import TfidfVectorizer\n",
    "from sklearn.decomposition import PCA\n",
    "from sklearn.manifold import TSNE"
   ]
  },
  {
   "cell_type": "code",
   "execution_count": null,
   "metadata": {},
   "outputs": [],
   "source": [
    "from sklearn.feature_extraction.text import TfidfVectorizer\n",
    "\n",
    "#define vectorizer parameters\n",
    "tfidf_vectorizer = TfidfVectorizer(max_df=0.90, min_df=10,\n",
    "                                   stop_words='english', max_features=10000,\n",
    "                                   strip_accents='unicode', use_idf=True, \n",
    "                                   tokenizer=tokenize_and_stem, ngram_range=(2,3))\n",
    "\n",
    "%time tfidf_matrix = tfidf_vectorizer.fit_transform(tweets) #fit the vectorizer to tweets"
   ]
  },
  {
   "cell_type": "code",
   "execution_count": null,
   "metadata": {},
   "outputs": [],
   "source": [
    "terms = tfidf_vectorizer.get_feature_names()\n",
    "tfidf_vectorizer.fit(tweets)\n",
    "%time text = tfidf_vectorizer.transform(tweets)"
   ]
  },
  {
   "cell_type": "code",
   "execution_count": null,
   "metadata": {},
   "outputs": [],
   "source": [
    "def find_optimal_clusters(data, max_k):\n",
    "    iters = range(2, max_k+1, 2)\n",
    "    \n",
    "    sse = []\n",
    "    for k in iters:\n",
    "        sse.append(MiniBatchKMeans(n_clusters=k, init_size=1024, batch_size=2048, random_state=20).fit(data).inertia_)\n",
    "        print('Fit {} clusters'.format(k))\n",
    "        \n",
    "    f, ax = plt.subplots(1, 1)\n",
    "    ax.plot(iters, sse, marker='o')\n",
    "    ax.set_xlabel('Cluster Centers')\n",
    "    ax.set_xticks(iters)\n",
    "    ax.set_xticklabels(iters)\n",
    "    ax.set_ylabel('SSE')\n",
    "    ax.set_title('SSE by Cluster Center Plot')\n",
    "    \n",
    "find_optimal_clusters(text, 10)"
   ]
  },
  {
   "cell_type": "code",
   "execution_count": null,
   "metadata": {},
   "outputs": [],
   "source": [
    "cluster_amt = 6"
   ]
  },
  {
   "cell_type": "code",
   "execution_count": null,
   "metadata": {},
   "outputs": [],
   "source": [
    "clusters = MiniBatchKMeans(n_clusters=cluster_amt, init_size=1024, batch_size=2048, random_state=20).fit_predict(text)"
   ]
  },
  {
   "cell_type": "code",
   "execution_count": null,
   "metadata": {},
   "outputs": [],
   "source": [
    "clusters"
   ]
  },
  {
   "cell_type": "code",
   "execution_count": null,
   "metadata": {},
   "outputs": [],
   "source": [
    "from sklearn.cluster import KMeans\n",
    "\n",
    "num_clusters = cluster_amt\n",
    "\n",
    "km = KMeans(n_clusters=num_clusters)\n",
    "\n",
    "%time km.fit(tfidf_matrix)\n",
    "\n",
    "clusters = km.labels_.tolist()"
   ]
  },
  {
   "cell_type": "code",
   "execution_count": null,
   "metadata": {
    "scrolled": false
   },
   "outputs": [],
   "source": [
    "Tweets = {'tweet': tweets, 'cluster': clusters}\n",
    "\n",
    "#frame = pd.DataFrame(Tweets, clusters)\n",
    "frame = pd.DataFrame(Tweets)\n",
    "frame['Aspect'] = \"Miscellaneous\"\n",
    "frame['Customer Service'] = 0\n",
    "frame['Delays'] = 0\n",
    "frame['Cancelled Flight(s)'] = 0\n",
    "frame['Seating'] = 0\n",
    "frame['Baggage'] = 0\n",
    "\n",
    "\n",
    "#print(frame)\n",
    "\n",
    "frame['cluster'].value_counts() #number of tweets per cluster (clusters from 0 to 5)\n"
   ]
  },
  {
   "cell_type": "code",
   "execution_count": null,
   "metadata": {},
   "outputs": [],
   "source": [
    "comparison_count = frame['cluster'].value_counts().min()\n",
    "comparison_count"
   ]
  },
  {
   "cell_type": "code",
   "execution_count": null,
   "metadata": {},
   "outputs": [],
   "source": [
    "clusterwords = pd.DataFrame(columns = ['Cluster', 'Word', \"Reason\"])"
   ]
  },
  {
   "cell_type": "code",
   "execution_count": null,
   "metadata": {},
   "outputs": [],
   "source": [
    "aspectsDF = pd.DataFrame(columns = ['Word', \"Reason\"])"
   ]
  },
  {
   "cell_type": "code",
   "execution_count": null,
   "metadata": {
    "scrolled": false
   },
   "outputs": [],
   "source": [
    "print(\"Top terms per cluster:\")\n",
    "\n",
    "#sort cluster centers by proximity to centroid\n",
    "order_centroids = km.cluster_centers_.argsort()[:, ::-1] \n",
    "\n",
    "for i in range(cluster_amt):\n",
    "    print(\"Cluster %d words:\" % i, end='')\n",
    "    name = \"Cluster %d words:\" % i\n",
    "    \n",
    "    for ind in order_centroids[i, :10]:\n",
    "        word = ' %s' % vocab_frame.loc[terms[ind].split(' ')].values.tolist()[0][0]\n",
    "        print(word, end=',')\n",
    "        clusterwords.loc[len(clusterwords.index)] = [i, word, \"Miscellaneous\"]\n",
    "    print() #add whitespace\n",
    "    print() #add whitespace\n"
   ]
  },
  {
   "cell_type": "code",
   "execution_count": null,
   "metadata": {
    "scrolled": false
   },
   "outputs": [],
   "source": [
    "#sort cluster centers by proximity to centroid\n",
    "order_centroids = km.cluster_centers_.argsort()[:, ::-1] \n",
    "\n",
    "aspect_words = []\n",
    "\n",
    "for i in range(cluster_amt):\n",
    "    for ind in order_centroids[i, :comparison_count]:\n",
    "        word = ' %s' % vocab_frame.loc[terms[ind].split(' ')].values.tolist()[0][0]\n",
    "        word = word.replace(\" \", \"\")\n",
    "        if word not in aspect_words:\n",
    "            aspect_words.append(word)\n",
    "            aspectsDF.loc[len(aspectsDF.index)] = [word, \"Miscellaneous\"]"
   ]
  },
  {
   "cell_type": "code",
   "execution_count": null,
   "metadata": {},
   "outputs": [],
   "source": [
    "aspect_assignments = {'Customer Service':['service', 'customer', 'phone', 'agent', 'email', 'speak', 'help', 'please', 'need', 'know', 'why', 'call'], \n",
    "                       'Delays':['delay', 'delayed', 'hour', 'hold', 'waited', 'late', 'status', 'schedule'], \n",
    "                       'Cancelled Flight(s)':['cancelled', 'rebook', 'missed', 'cancel', 'reschedule'], \n",
    "                       'Seating': ['book', 'booking', 'seats', 'seat', 'boarding'],\n",
    "                       'Baggage': ['bag', 'gate', 'check', 'lost', 'baggage', 'bags']\n",
    "                      }\n",
    "\n",
    "aspectsDF['Customer Service'] = 0\n",
    "aspectsDF['Delays'] = 0\n",
    "aspectsDF['Cancelled Flight(s)'] = 0\n",
    "aspectsDF['Seating'] = 0\n",
    "aspectsDF['Baggage'] = 0\n",
    "\n",
    "def get_key(val):\n",
    "    for key, value in aspect_assignments.items():\n",
    "        for item in value:\n",
    "            if (val == item):\n",
    "                return key"
   ]
  },
  {
   "cell_type": "code",
   "execution_count": null,
   "metadata": {},
   "outputs": [],
   "source": [
    "#print(aspectsDF)"
   ]
  },
  {
   "cell_type": "code",
   "execution_count": null,
   "metadata": {},
   "outputs": [],
   "source": [
    "for i in range(len(aspect_words)):\n",
    "    tof = False\n",
    "    word = aspect_words[i]\n",
    "    aspect_name = \"Miscellaneous\"\n",
    "    for value in aspect_assignments.values():\n",
    "        for item in value:\n",
    "            if (word == item):\n",
    "                tof = True\n",
    "                aspect_name = get_key(word)\n",
    "                break\n",
    "    aspectsDF.loc[i, 'Reason'] = aspect_name"
   ]
  },
  {
   "cell_type": "code",
   "execution_count": null,
   "metadata": {},
   "outputs": [],
   "source": [
    "#aspectsDF"
   ]
  },
  {
   "cell_type": "code",
   "execution_count": null,
   "metadata": {},
   "outputs": [],
   "source": [
    "for tweet in tweets:\n",
    "    cs= 0\n",
    "    de= 0\n",
    "    cf= 0\n",
    "    se= 0\n",
    "    ba= 0\n",
    "    tweet_array = tweet.split(\" \")\n",
    "    for word in tweet_array:\n",
    "        if word in aspectsDF.values:\n",
    "            index = aspectsDF.index[aspectsDF['Word'] == word].tolist()[0]\n",
    "            aspect = aspectsDF.Reason.values[index]\n",
    "            if aspect == 'Customer Service':\n",
    "                cs += 1\n",
    "            if aspect == 'Delays':\n",
    "                de += 1\n",
    "            if aspect == 'Cancelled Flight(s)':\n",
    "                cf += 1\n",
    "            if aspect == 'Seating':\n",
    "                se += 1\n",
    "            if aspect == 'Baggage':\n",
    "                ba += 1\n",
    "                \n",
    "    assignments = {'cs': cs,'de': de,'cf': cf,'se': se,'ba': ba}\n",
    "    aspects = {'cs': 'Customer Service','de': 'Delays','cf': 'Cancelled Flight(s)','se': 'Seating','ba': 'Baggage'}\n",
    "    test_value = max(assignments.values())\n",
    "    test_key = 'me'\n",
    "    for key, value in assignments.items():\n",
    "        if test_value == value:\n",
    "            test_key = key\n",
    "            break\n",
    "            \n",
    "    tweet_index = frame.index[frame['tweet'] == tweet].tolist()[0]\n",
    "    frame.loc[tweet_index, 'Aspect'] = aspects[test_key]\n",
    "    frame.loc[tweet_index, 'Customer Service'] = cs\n",
    "    frame.loc[tweet_index, 'Delays'] = de\n",
    "    frame.loc[tweet_index, 'Cancelled Flight(s)'] = cf\n",
    "    frame.loc[tweet_index, 'Seating'] = se\n",
    "    frame.loc[tweet_index, 'Baggage'] = ba"
   ]
  },
  {
   "cell_type": "code",
   "execution_count": null,
   "metadata": {},
   "outputs": [],
   "source": [
    "#frame"
   ]
  },
  {
   "cell_type": "code",
   "execution_count": null,
   "metadata": {},
   "outputs": [],
   "source": [
    "df['Aspect'] = frame['Aspect']\n",
    "df['Customer Service'] = frame['Customer Service']\n",
    "df['Delays'] = frame['Delays']\n",
    "df['Cancelled Flight(s)'] = frame['Cancelled Flight(s)']\n",
    "df['Seating'] = frame['Seating']\n",
    "df['Baggage'] = frame['Baggage']\n",
    "\n",
    "df.head()"
   ]
  },
  {
   "cell_type": "code",
   "execution_count": null,
   "metadata": {},
   "outputs": [],
   "source": [
    "#https://codereview.stackexchange.com/questions/249329/finding-the-most-frequent-words-in-pandas-dataframe\n",
    "# for i in range(num_clusters):\n",
    "#     words = clusterwords[clusterwords.isin([i]).any(axis=1)]\n",
    "#     word_count = Counter(\" \".join(words.Word).split()).most_common(10)\n",
    "#     word_frequency = pd.DataFrame(word_count, columns = ['Word', 'Frequency'])\n",
    "#     print(word_frequency)\n",
    "#     print(\"Cluster \", i, \"'s most frequent word is: \", word_frequency.Word)"
   ]
  },
  {
   "cell_type": "code",
   "execution_count": null,
   "metadata": {},
   "outputs": [],
   "source": [
    "df.to_csv('clustered_tweets.csv')"
   ]
  },
  {
   "cell_type": "markdown",
   "metadata": {},
   "source": [
    "# Sentiment Analysis\n",
    "\n",
    "The second classification task in this process is that of sentiment. Combined with the aspect of the tweet classified above, this yields aspect-based sentiment analysis to understand which airlines are receiving the most complaints against which aspects of their service.\n",
    "\n",
    "The baseline accuracy is: X% negative.\n",
    "\n",
    "<p> A total of 5 sentiment models were evaluated against the Airline Tweets dataset: </p>\n",
    "\n",
    "- TextBlob (training accuracy: , test accuracy: )\n",
    "- Naive Bayes \n",
    "- Textblob x Naive Bayes: 62%\n",
    "- Hugging Face\n",
    "- Hugging Face with fine tuning\n",
    "\n",
    "Hugging Face with fine tuning was chosen as the final model. "
   ]
  },
  {
   "cell_type": "markdown",
   "metadata": {},
   "source": [
    "### Sentiment analysis Model #1 -- TextBlob and Naive Bayes"
   ]
  },
  {
   "cell_type": "code",
   "execution_count": null,
   "metadata": {},
   "outputs": [],
   "source": [
    "import numpy as np\n",
    "import pandas as pd\n",
    "import seaborn as sns\n",
    "import matplotlib.pyplot as plt\n",
    "# import geopandas as gp\n",
    "\n",
    "import nltk\n",
    "nltk.download('vader_lexicon')\n",
    "nltk.download('stopwords')\n",
    "\n",
    "from nltk.stem.porter import *\n",
    "stemmer = PorterStemmer()\n",
    "from nltk.sentiment import SentimentIntensityAnalyzer\n",
    "sia = SentimentIntensityAnalyzer()\n",
    "\n",
    "from textblob import TextBlob\n",
    "from textblob import Blobber\n",
    "from textblob.sentiments import NaiveBayesAnalyzer"
   ]
  },
  {
   "cell_type": "code",
   "execution_count": null,
   "metadata": {
    "scrolled": true
   },
   "outputs": [],
   "source": [
    "tweets = pd.read_csv('Tweets.csv')\n",
    "frame = frame.reset_index()\n",
    "tweets = tweets.join(frame)\n",
    "tweets = tweets.rename(columns={\"tweet\":\"Tweet\"})\n",
    "tweets"
   ]
  },
  {
   "cell_type": "code",
   "execution_count": null,
   "metadata": {},
   "outputs": [],
   "source": [
    "# assign sentiment scores\n",
    "scores = []\n",
    "for tweet in tweets['Tweet']:\n",
    "    score = sia.polarity_scores(tweet)\n",
    "    scores.append(score['compound'])\n",
    "tweets['sentiment_scores'] = scores\n",
    "tweets['sentiment_derived'] = [\"positive\" if w >0 else \"negative\" if w < 0 else \"neutral\" for w in tweets['sentiment_scores']]"
   ]
  },
  {
   "cell_type": "code",
   "execution_count": null,
   "metadata": {
    "scrolled": true
   },
   "outputs": [],
   "source": [
    "# percent match between assigned and derived sentiment\n",
    "tweets['match'] = (tweets['sentiment_derived']==tweets['airline_sentiment']).astype(int)\n",
    "tweets[['airline_sentiment','sentiment_derived','match']]\n",
    "tweets['match'].mean()"
   ]
  },
  {
   "cell_type": "code",
   "execution_count": null,
   "metadata": {},
   "outputs": [],
   "source": [
    "# crosstab of assigned vs derived sentiment\n",
    "pd.crosstab(tweets.airline_sentiment, tweets.sentiment_derived)"
   ]
  },
  {
   "cell_type": "markdown",
   "metadata": {},
   "source": [
    "About 50% of the derived sentiment scores match the original scores. Most of the errors are negative or neutral tweets that are misclassified as neutral or positive. Assess additional sentiment analyzers to improve accuracy:"
   ]
  },
  {
   "cell_type": "code",
   "execution_count": null,
   "metadata": {},
   "outputs": [],
   "source": [
    "blobber = Blobber(analyzer=NaiveBayesAnalyzer())\n",
    "\n",
    "scores = []\n",
    "for tweet in tweets['Tweet']:\n",
    "    score = TextBlob(tweet)\n",
    "    scores.append(score.sentiment[0])\n",
    "tweets['textblob_scores'] = scores\n",
    "tweets['textblob_derived'] = [\"positive\" if w >0 else \"negative\" if w < 0 else \"neutral\" for w in tweets['textblob_scores']]"
   ]
  },
  {
   "cell_type": "code",
   "execution_count": null,
   "metadata": {},
   "outputs": [],
   "source": [
    "pd.crosstab(tweets.sentiment_derived, tweets.textblob_derived)"
   ]
  },
  {
   "cell_type": "code",
   "execution_count": null,
   "metadata": {},
   "outputs": [],
   "source": [
    "def combined_sentiment(tweets):\n",
    "    if (tweets['textblob_derived'] == 'negative') or (tweets['sentiment_derived'] == 'negative'):\n",
    "        return 'negative'\n",
    "    if (tweets['textblob_derived'] == 'neutral') and (tweets['sentiment_derived'] == 'positive'):\n",
    "        return 'neutral'\n",
    "    if (tweets['textblob_derived'] == 'positive') and (tweets['sentiment_derived'] == 'neutral'):\n",
    "        return 'neutral'\n",
    "    if (tweets['textblob_derived'] == 'neutral') and (tweets['sentiment_derived'] == 'neutral'):\n",
    "        return 'negative'\n",
    "    if (tweets['textblob_derived'] == 'positive') and (tweets['sentiment_derived'] == 'positive'):\n",
    "        return 'positive'\n",
    "    else:\n",
    "        return '0'"
   ]
  },
  {
   "cell_type": "code",
   "execution_count": null,
   "metadata": {},
   "outputs": [],
   "source": [
    "tweets['final_derived'] = tweets.apply(combined_sentiment, axis=1)"
   ]
  },
  {
   "cell_type": "code",
   "execution_count": null,
   "metadata": {},
   "outputs": [],
   "source": [
    "pd.crosstab(tweets.final_derived, tweets.airline_sentiment)"
   ]
  },
  {
   "cell_type": "code",
   "execution_count": null,
   "metadata": {},
   "outputs": [],
   "source": [
    "# percent match between assigned and derived sentiment\n",
    "tweets['match'] = (tweets['final_derived']==tweets['airline_sentiment']).astype(int)\n",
    "tweets[['airline_sentiment','final_derived','match']]\n",
    "tweets['match'].mean()"
   ]
  },
  {
   "cell_type": "markdown",
   "metadata": {},
   "source": [
    "Accuracy has improved moderately with a combination of sentiment classifiers. "
   ]
  },
  {
   "cell_type": "code",
   "execution_count": null,
   "metadata": {},
   "outputs": [],
   "source": [
    "# % negative sentiment by cluster using derived sentiment\n",
    "tweets['negative'] = np.where(tweets['final_derived']== 'negative', True, False)\n",
    "tweets.groupby('cluster')['negative'].mean()"
   ]
  },
  {
   "cell_type": "code",
   "execution_count": null,
   "metadata": {
    "scrolled": true
   },
   "outputs": [],
   "source": [
    "# % negative sentiment by cluster using sentiment from original dataset\n",
    "tweets['negative_orig'] = np.where(tweets['airline_sentiment']== 'negative', True, False)\n",
    "tweets.groupby('cluster')['negative_orig'].mean()"
   ]
  },
  {
   "cell_type": "markdown",
   "metadata": {},
   "source": [
    "Initial results indicate that Cluster 3 (key words: b'delayed', b'flight', b'hour', b'missed', b'connecting', b'plane') is the most negative."
   ]
  },
  {
   "cell_type": "code",
   "execution_count": null,
   "metadata": {
    "scrolled": true
   },
   "outputs": [],
   "source": [
    "tweets.head()"
   ]
  },
  {
   "cell_type": "code",
   "execution_count": null,
   "metadata": {},
   "outputs": [],
   "source": [
    "tweets['Tweet'][3]"
   ]
  },
  {
   "cell_type": "markdown",
   "metadata": {},
   "source": [
    "### Sentiment Model #2 -- Hugging Face"
   ]
  },
  {
   "cell_type": "code",
   "execution_count": null,
   "metadata": {},
   "outputs": [],
   "source": [
    "from transformers import AutoModelForSequenceClassification\n",
    "from transformers import TFAutoModelForSequenceClassification\n",
    "from transformers import AutoTokenizer\n",
    "import numpy as np\n",
    "from scipy.special import softmax\n",
    "import csv\n",
    "import urllib.request"
   ]
  },
  {
   "cell_type": "code",
   "execution_count": null,
   "metadata": {},
   "outputs": [],
   "source": [
    "# Preprocess text (username and link placeholders)\n",
    "def preprocess(text):\n",
    "    new_text = []\n",
    "\n",
    "\n",
    "    for t in text.split(\" \"):\n",
    "        t = '@user' if t.startswith('@') and len(t) > 1 else t\n",
    "        t = 'http' if t.startswith('http') else t\n",
    "        new_text.append(t)\n",
    "    return \" \".join(new_text)"
   ]
  },
  {
   "cell_type": "code",
   "execution_count": null,
   "metadata": {},
   "outputs": [],
   "source": [
    "rm -r ./cardiffnlp"
   ]
  },
  {
   "cell_type": "code",
   "execution_count": null,
   "metadata": {},
   "outputs": [],
   "source": [
    "# Tasks:\n",
    "# emoji, emotion, hate, irony, offensive, sentiment\n",
    "# stance/abortion, stance/atheism, stance/climate, stance/feminist, stance/hillary\n",
    "\n",
    "task='sentiment'\n",
    "MODEL = f\"cardiffnlp/twitter-roberta-base-sentiment\"\n",
    "\n",
    "tokenizer = AutoTokenizer.from_pretrained(MODEL)"
   ]
  },
  {
   "cell_type": "code",
   "execution_count": null,
   "metadata": {},
   "outputs": [],
   "source": [
    "# download label mapping\n",
    "labels=[]\n",
    "mapping_link = f\"https://raw.githubusercontent.com/cardiffnlp/tweeteval/main/datasets/{task}/mapping.txt\"\n",
    "with urllib.request.urlopen(mapping_link) as f:\n",
    "    html = f.read().decode('utf-8').split(\"\\n\")\n",
    "    csvreader = csv.reader(html, delimiter='\\t')\n",
    "labels = [row[1] for row in csvreader if len(row) > 1]"
   ]
  },
  {
   "cell_type": "code",
   "execution_count": null,
   "metadata": {},
   "outputs": [],
   "source": [
    "# PT\n",
    "model = AutoModelForSequenceClassification.from_pretrained(MODEL)\n",
    "model.save_pretrained(MODEL)\n",
    "tokenizer.save_pretrained(MODEL)"
   ]
  },
  {
   "cell_type": "code",
   "execution_count": null,
   "metadata": {},
   "outputs": [],
   "source": [
    "final_scores = []\n",
    "\n",
    "for tweet in tweets['Tweet']:\n",
    "    \n",
    "    text = tweet\n",
    "    text = preprocess(text)\n",
    "    encoded_input = tokenizer(text, return_tensors='pt')\n",
    "    output = model(**encoded_input)\n",
    "    scores = output[0][0].detach().numpy()\n",
    "    scores = softmax(scores)\n",
    "    \n",
    "    # # TF\n",
    "    # model = TFAutoModelForSequenceClassification.from_pretrained(MODEL)\n",
    "    # model.save_pretrained(MODEL)\n",
    "\n",
    "    # text = \"Good night 😊\"\n",
    "    # encoded_input = tokenizer(text, return_tensors='tf')\n",
    "    # output = model(encoded_input)\n",
    "    # scores = output[0][0].numpy()\n",
    "    # scores = softmax(scores)\n",
    "\n",
    "    ranking = np.argsort(scores)\n",
    "    ranking = ranking[::-1]\n",
    "    for i in range(scores.shape[0]):\n",
    "        l = labels[ranking[i]]\n",
    "        s = scores[ranking[i]]\n",
    "        #print(f\"{i+1}) {l} {np.round(float(s), 4)}\")\n",
    "        \n",
    "    final_score = labels[ranking[0]]\n",
    "    final_scores.append(final_score)"
   ]
  },
  {
   "cell_type": "code",
   "execution_count": null,
   "metadata": {},
   "outputs": [],
   "source": [
    "tweets['hugging_face'] = final_scores"
   ]
  },
  {
   "cell_type": "code",
   "execution_count": null,
   "metadata": {},
   "outputs": [],
   "source": [
    "#tweets.to_csv('tweets_sentiment_refined.csv')"
   ]
  },
  {
   "cell_type": "code",
   "execution_count": null,
   "metadata": {},
   "outputs": [],
   "source": [
    "pd.crosstab(tweets.hugging_face, tweets.airline_sentiment)"
   ]
  },
  {
   "cell_type": "code",
   "execution_count": null,
   "metadata": {},
   "outputs": [],
   "source": [
    "# percent match between assigned and derived sentiment\n",
    "tweets['match_hf'] = (tweets['hugging_face']==tweets['airline_sentiment']).astype(int)\n",
    "tweets[['airline_sentiment','hugging_face','match_hf']]\n",
    "tweets['match_hf'].mean()"
   ]
  },
  {
   "cell_type": "markdown",
   "metadata": {},
   "source": [
    "Implementing the Twitter-roBERTa-base model for Sentiment Analysis improves the model accuracy by 10%+ to 72%."
   ]
  },
  {
   "cell_type": "markdown",
   "metadata": {},
   "source": [
    "# Fine tuning BERT"
   ]
  },
  {
   "cell_type": "markdown",
   "metadata": {},
   "source": [
    "## Load libraries"
   ]
  },
  {
   "cell_type": "code",
   "execution_count": 1,
   "metadata": {},
   "outputs": [],
   "source": [
    "import os\n",
    "import re\n",
    "from tqdm import tqdm\n",
    "import numpy as np\n",
    "import pandas as pd\n",
    "import matplotlib.pyplot as plt\n",
    "import torch\n",
    "\n",
    "%matplotlib inline"
   ]
  },
  {
   "cell_type": "markdown",
   "metadata": {},
   "source": [
    "## Load the data"
   ]
  },
  {
   "cell_type": "code",
   "execution_count": 2,
   "metadata": {},
   "outputs": [],
   "source": [
    "tweets = pd.read_csv('data/Tweets.csv')\n",
    "tweets.columns.tolist()\n",
    "# Rename columns\n",
    "tweets = tweets.rename(columns={\"text\":\"tweet\"})"
   ]
  },
  {
   "cell_type": "markdown",
   "metadata": {},
   "source": [
    "Double check that no tweets are missing labels."
   ]
  },
  {
   "cell_type": "code",
   "execution_count": 3,
   "metadata": {
    "scrolled": true
   },
   "outputs": [
    {
     "data": {
      "text/plain": [
       "negative    9178\n",
       "neutral     3099\n",
       "positive    2363\n",
       "Name: airline_sentiment, dtype: int64"
      ]
     },
     "execution_count": 3,
     "metadata": {},
     "output_type": "execute_result"
    }
   ],
   "source": [
    "tweets.airline_sentiment.value_counts(dropna=False)"
   ]
  },
  {
   "cell_type": "markdown",
   "metadata": {},
   "source": [
    "Relabel tweets to two classes: 1 (negative) and 0 (neutral, positive)."
   ]
  },
  {
   "cell_type": "code",
   "execution_count": 4,
   "metadata": {},
   "outputs": [],
   "source": [
    "tweets['label'] = np.where(\n",
    "    tweets['airline_sentiment']=='negative', 1, np.where(\n",
    "    tweets['airline_sentiment']=='neutral', 0, np.where(\n",
    "    tweets['airline_sentiment']=='positive',0, 0)))"
   ]
  },
  {
   "cell_type": "code",
   "execution_count": 5,
   "metadata": {},
   "outputs": [
    {
     "data": {
      "text/html": [
       "<div>\n",
       "<style scoped>\n",
       "    .dataframe tbody tr th:only-of-type {\n",
       "        vertical-align: middle;\n",
       "    }\n",
       "\n",
       "    .dataframe tbody tr th {\n",
       "        vertical-align: top;\n",
       "    }\n",
       "\n",
       "    .dataframe thead th {\n",
       "        text-align: right;\n",
       "    }\n",
       "</style>\n",
       "<table border=\"1\" class=\"dataframe\">\n",
       "  <thead>\n",
       "    <tr style=\"text-align: right;\">\n",
       "      <th></th>\n",
       "      <th>tweet</th>\n",
       "      <th>label</th>\n",
       "    </tr>\n",
       "  </thead>\n",
       "  <tbody>\n",
       "    <tr>\n",
       "      <th>12044</th>\n",
       "      <td>@AmericanAir stranded for 24 hours in MIA, Pat...</td>\n",
       "      <td>1</td>\n",
       "    </tr>\n",
       "    <tr>\n",
       "      <th>442</th>\n",
       "      <td>@VirginAmerica please add more frequency to PD...</td>\n",
       "      <td>0</td>\n",
       "    </tr>\n",
       "    <tr>\n",
       "      <th>2349</th>\n",
       "      <td>@united my husband is supposed to fly RDU to I...</td>\n",
       "      <td>1</td>\n",
       "    </tr>\n",
       "    <tr>\n",
       "      <th>6417</th>\n",
       "      <td>@SouthwestAir Why won't you let me leave Newark!?</td>\n",
       "      <td>1</td>\n",
       "    </tr>\n",
       "    <tr>\n",
       "      <th>9824</th>\n",
       "      <td>@USAirways any way to tell our gate we are goi...</td>\n",
       "      <td>1</td>\n",
       "    </tr>\n",
       "  </tbody>\n",
       "</table>\n",
       "</div>"
      ],
      "text/plain": [
       "                                                   tweet  label\n",
       "12044  @AmericanAir stranded for 24 hours in MIA, Pat...      1\n",
       "442    @VirginAmerica please add more frequency to PD...      0\n",
       "2349   @united my husband is supposed to fly RDU to I...      1\n",
       "6417   @SouthwestAir Why won't you let me leave Newark!?      1\n",
       "9824   @USAirways any way to tell our gate we are goi...      1"
      ]
     },
     "execution_count": 5,
     "metadata": {},
     "output_type": "execute_result"
    }
   ],
   "source": [
    "# Load data and set labels\n",
    "data = tweets\n",
    "\n",
    "# Keep required columns\n",
    "data = data[['tweet','label']]\n",
    "\n",
    "# Display 5 random samples\n",
    "data.sample(5)"
   ]
  },
  {
   "cell_type": "markdown",
   "metadata": {},
   "source": [
    "We will randomly split the entire training data into two sets: a train set with 90% of the data and a validation set with 10% of the data. We will perform hyperparameter tuning using cross-validation on the train set and use the validation set to compare models."
   ]
  },
  {
   "cell_type": "code",
   "execution_count": 6,
   "metadata": {},
   "outputs": [],
   "source": [
    "from sklearn.model_selection import train_test_split\n",
    "\n",
    "X = data.tweet.values\n",
    "y = data.label.values\n",
    "\n",
    "X_train, X_val, y_train, y_val =\\\n",
    "    train_test_split(X, y, test_size=0.1, random_state=2020)"
   ]
  },
  {
   "cell_type": "markdown",
   "metadata": {},
   "source": [
    "## C - Baseline: TF-IDF + Naive Bayes Classifier\n",
    "\n",
    "In this baseline approach, first we will use TF-IDF to vectorize our text data. Then we will use the Naive Bayes model as our classifier.\n",
    "\n",
    "Why Naive Bayes? I have experiemented different machine learning algorithms including Random Forest, Support Vectors Machine, XGBoost and observed that Naive Bayes yields the best performance. In Scikit-learn's guide to choose the right estimator, it is also suggested that Naive Bayes should be used for text data. I also tried using SVD to reduce dimensionality; however, it did not yield a better performance.\n",
    "\n",
    "### Data preparation\n",
    "\n",
    "#### Preprocessing\n",
    "\n",
    "In the bag-of-words model, a text is represented as the bag of its words, disregarding grammar and word order. Therefore, we will want to remove stop words, punctuations and characters that don't contribute much to the sentence's meaning."
   ]
  },
  {
   "cell_type": "code",
   "execution_count": 7,
   "metadata": {},
   "outputs": [
    {
     "name": "stderr",
     "output_type": "stream",
     "text": [
      "[nltk_data] Downloading package stopwords to\n",
      "[nltk_data]     /Users/shrutikorada/nltk_data...\n",
      "[nltk_data]   Package stopwords is already up-to-date!\n"
     ]
    }
   ],
   "source": [
    "import nltk\n",
    "# Uncomment to download \"stopwords\"\n",
    "nltk.download(\"stopwords\")\n",
    "from nltk.corpus import stopwords\n",
    "\n",
    "def text_preprocessing(s):\n",
    "    \"\"\"\n",
    "    - Lowercase the sentence\n",
    "    - Change \"'t\" to \"not\"\n",
    "    - Remove \"@name\"\n",
    "    - Isolate and remove punctuations except \"?\"\n",
    "    - Remove other special characters\n",
    "    - Remove stop words except \"not\" and \"can\"\n",
    "    - Remove trailing whitespace\n",
    "    \"\"\"\n",
    "    s = s.lower()\n",
    "    # Change 't to 'not'\n",
    "    s = re.sub(r\"\\'t\", \" not\", s)\n",
    "    # Remove @name\n",
    "    s = re.sub(r'(@.*?)[\\s]', ' ', s)\n",
    "    # Isolate and remove punctuations except '?'\n",
    "    s = re.sub(r'([\\'\\\"\\.\\(\\)\\!\\?\\\\\\/\\,])', r' \\1 ', s)\n",
    "    s = re.sub(r'[^\\w\\s\\?]', ' ', s)\n",
    "    # Remove some special characters\n",
    "    s = re.sub(r'([\\;\\:\\|•«\\n])', ' ', s)\n",
    "    # Remove stopwords except 'not' and 'can'\n",
    "    s = \" \".join([word for word in s.split()\n",
    "                  if word not in stopwords.words('english')\n",
    "                  or word in ['not', 'can']])\n",
    "    # Remove trailing whitespace\n",
    "    s = re.sub(r'\\s+', ' ', s).strip()\n",
    "    \n",
    "    return s"
   ]
  },
  {
   "cell_type": "markdown",
   "metadata": {},
   "source": [
    "### 1.2. TF-IDF Vectorizer\n",
    "\n",
    "In information retrieval, TF-IDF, short for term frequency–inverse document frequency, is a numerical statistic that is intended to reflect how important a word is to a document in a collection or corpus. We will use TF-IDF to vectorize our text data before feeding them to machine learning algorithms."
   ]
  },
  {
   "cell_type": "code",
   "execution_count": 8,
   "metadata": {},
   "outputs": [
    {
     "name": "stdout",
     "output_type": "stream",
     "text": [
      "CPU times: user 47 s, sys: 10.5 s, total: 57.4 s\n",
      "Wall time: 57.8 s\n"
     ]
    }
   ],
   "source": [
    "%%time\n",
    "from sklearn.feature_extraction.text import TfidfVectorizer\n",
    "\n",
    "# Preprocess text\n",
    "X_train_preprocessed = np.array([text_preprocessing(text) for text in X_train])\n",
    "X_val_preprocessed = np.array([text_preprocessing(text) for text in X_val])\n",
    "\n",
    "# Calculate TF-IDF\n",
    "tf_idf = TfidfVectorizer(ngram_range=(1, 3),\n",
    "                         binary=True,\n",
    "                         smooth_idf=False)\n",
    "X_train_tfidf = tf_idf.fit_transform(X_train_preprocessed)\n",
    "X_val_tfidf = tf_idf.transform(X_val_preprocessed)"
   ]
  },
  {
   "cell_type": "markdown",
   "metadata": {},
   "source": [
    "## 2. Train Naive Bayes Classifier\n",
    "### 2.1. Hyperparameter Tuning\n",
    "We will use cross-validation and AUC score to tune hyperparameters of our model. The function get_auc_CV will return the average AUC score from cross-validation."
   ]
  },
  {
   "cell_type": "code",
   "execution_count": 9,
   "metadata": {},
   "outputs": [],
   "source": [
    "from sklearn.model_selection import StratifiedKFold, cross_val_score\n",
    "\n",
    "def get_auc_CV(model):\n",
    "    \"\"\"\n",
    "    Return the average AUC score from cross-validation.\n",
    "    \"\"\"\n",
    "    # Set KFold to shuffle data before the split\n",
    "    kf = StratifiedKFold(5, shuffle=True, random_state=1)\n",
    "\n",
    "    # Get AUC scores\n",
    "    auc = cross_val_score(\n",
    "        model, X_train_tfidf, y_train, scoring=\"roc_auc\", cv=kf)\n",
    "\n",
    "    return auc.mean()"
   ]
  },
  {
   "cell_type": "markdown",
   "metadata": {},
   "source": [
    "The MultinominalNB class only have one hypterparameter - alpha. The code below will help us find the alpha value that gives us the highest CV AUC score."
   ]
  },
  {
   "cell_type": "code",
   "execution_count": 10,
   "metadata": {},
   "outputs": [
    {
     "name": "stderr",
     "output_type": "stream",
     "text": [
      "/Users/shrutikorada/opt/anaconda3/envs/fsan815/lib/python3.6/site-packages/sklearn/utils/validation.py:72: FutureWarning: Pass alpha=1.0 as keyword args. From version 1.0 (renaming of 0.25) passing these as positional arguments will result in an error\n",
      "  \"will result in an error\", FutureWarning)\n",
      "/Users/shrutikorada/opt/anaconda3/envs/fsan815/lib/python3.6/site-packages/sklearn/utils/validation.py:72: FutureWarning: Pass alpha=1.1 as keyword args. From version 1.0 (renaming of 0.25) passing these as positional arguments will result in an error\n",
      "  \"will result in an error\", FutureWarning)\n",
      "/Users/shrutikorada/opt/anaconda3/envs/fsan815/lib/python3.6/site-packages/sklearn/utils/validation.py:72: FutureWarning: Pass alpha=1.2000000000000002 as keyword args. From version 1.0 (renaming of 0.25) passing these as positional arguments will result in an error\n",
      "  \"will result in an error\", FutureWarning)\n",
      "/Users/shrutikorada/opt/anaconda3/envs/fsan815/lib/python3.6/site-packages/sklearn/utils/validation.py:72: FutureWarning: Pass alpha=1.3000000000000003 as keyword args. From version 1.0 (renaming of 0.25) passing these as positional arguments will result in an error\n",
      "  \"will result in an error\", FutureWarning)\n",
      "/Users/shrutikorada/opt/anaconda3/envs/fsan815/lib/python3.6/site-packages/sklearn/utils/validation.py:72: FutureWarning: Pass alpha=1.4000000000000004 as keyword args. From version 1.0 (renaming of 0.25) passing these as positional arguments will result in an error\n",
      "  \"will result in an error\", FutureWarning)\n",
      "/Users/shrutikorada/opt/anaconda3/envs/fsan815/lib/python3.6/site-packages/sklearn/utils/validation.py:72: FutureWarning: Pass alpha=1.5000000000000004 as keyword args. From version 1.0 (renaming of 0.25) passing these as positional arguments will result in an error\n",
      "  \"will result in an error\", FutureWarning)\n",
      "/Users/shrutikorada/opt/anaconda3/envs/fsan815/lib/python3.6/site-packages/sklearn/utils/validation.py:72: FutureWarning: Pass alpha=1.6000000000000005 as keyword args. From version 1.0 (renaming of 0.25) passing these as positional arguments will result in an error\n",
      "  \"will result in an error\", FutureWarning)\n",
      "/Users/shrutikorada/opt/anaconda3/envs/fsan815/lib/python3.6/site-packages/sklearn/utils/validation.py:72: FutureWarning: Pass alpha=1.7000000000000006 as keyword args. From version 1.0 (renaming of 0.25) passing these as positional arguments will result in an error\n",
      "  \"will result in an error\", FutureWarning)\n",
      "/Users/shrutikorada/opt/anaconda3/envs/fsan815/lib/python3.6/site-packages/sklearn/utils/validation.py:72: FutureWarning: Pass alpha=1.8000000000000007 as keyword args. From version 1.0 (renaming of 0.25) passing these as positional arguments will result in an error\n",
      "  \"will result in an error\", FutureWarning)\n",
      "/Users/shrutikorada/opt/anaconda3/envs/fsan815/lib/python3.6/site-packages/sklearn/utils/validation.py:72: FutureWarning: Pass alpha=1.9000000000000008 as keyword args. From version 1.0 (renaming of 0.25) passing these as positional arguments will result in an error\n",
      "  \"will result in an error\", FutureWarning)\n",
      "/Users/shrutikorada/opt/anaconda3/envs/fsan815/lib/python3.6/site-packages/sklearn/utils/validation.py:72: FutureWarning: Pass alpha=2.000000000000001 as keyword args. From version 1.0 (renaming of 0.25) passing these as positional arguments will result in an error\n",
      "  \"will result in an error\", FutureWarning)\n",
      "/Users/shrutikorada/opt/anaconda3/envs/fsan815/lib/python3.6/site-packages/sklearn/utils/validation.py:72: FutureWarning: Pass alpha=2.100000000000001 as keyword args. From version 1.0 (renaming of 0.25) passing these as positional arguments will result in an error\n",
      "  \"will result in an error\", FutureWarning)\n",
      "/Users/shrutikorada/opt/anaconda3/envs/fsan815/lib/python3.6/site-packages/sklearn/utils/validation.py:72: FutureWarning: Pass alpha=2.200000000000001 as keyword args. From version 1.0 (renaming of 0.25) passing these as positional arguments will result in an error\n",
      "  \"will result in an error\", FutureWarning)\n",
      "/Users/shrutikorada/opt/anaconda3/envs/fsan815/lib/python3.6/site-packages/sklearn/utils/validation.py:72: FutureWarning: Pass alpha=2.300000000000001 as keyword args. From version 1.0 (renaming of 0.25) passing these as positional arguments will result in an error\n",
      "  \"will result in an error\", FutureWarning)\n",
      "/Users/shrutikorada/opt/anaconda3/envs/fsan815/lib/python3.6/site-packages/sklearn/utils/validation.py:72: FutureWarning: Pass alpha=2.4000000000000012 as keyword args. From version 1.0 (renaming of 0.25) passing these as positional arguments will result in an error\n",
      "  \"will result in an error\", FutureWarning)\n",
      "/Users/shrutikorada/opt/anaconda3/envs/fsan815/lib/python3.6/site-packages/sklearn/utils/validation.py:72: FutureWarning: Pass alpha=2.5000000000000013 as keyword args. From version 1.0 (renaming of 0.25) passing these as positional arguments will result in an error\n",
      "  \"will result in an error\", FutureWarning)\n",
      "/Users/shrutikorada/opt/anaconda3/envs/fsan815/lib/python3.6/site-packages/sklearn/utils/validation.py:72: FutureWarning: Pass alpha=2.6000000000000014 as keyword args. From version 1.0 (renaming of 0.25) passing these as positional arguments will result in an error\n",
      "  \"will result in an error\", FutureWarning)\n",
      "/Users/shrutikorada/opt/anaconda3/envs/fsan815/lib/python3.6/site-packages/sklearn/utils/validation.py:72: FutureWarning: Pass alpha=2.7000000000000015 as keyword args. From version 1.0 (renaming of 0.25) passing these as positional arguments will result in an error\n",
      "  \"will result in an error\", FutureWarning)\n",
      "/Users/shrutikorada/opt/anaconda3/envs/fsan815/lib/python3.6/site-packages/sklearn/utils/validation.py:72: FutureWarning: Pass alpha=2.8000000000000016 as keyword args. From version 1.0 (renaming of 0.25) passing these as positional arguments will result in an error\n",
      "  \"will result in an error\", FutureWarning)\n",
      "/Users/shrutikorada/opt/anaconda3/envs/fsan815/lib/python3.6/site-packages/sklearn/utils/validation.py:72: FutureWarning: Pass alpha=2.9000000000000017 as keyword args. From version 1.0 (renaming of 0.25) passing these as positional arguments will result in an error\n",
      "  \"will result in an error\", FutureWarning)\n",
      "/Users/shrutikorada/opt/anaconda3/envs/fsan815/lib/python3.6/site-packages/sklearn/utils/validation.py:72: FutureWarning: Pass alpha=3.0000000000000018 as keyword args. From version 1.0 (renaming of 0.25) passing these as positional arguments will result in an error\n",
      "  \"will result in an error\", FutureWarning)\n",
      "/Users/shrutikorada/opt/anaconda3/envs/fsan815/lib/python3.6/site-packages/sklearn/utils/validation.py:72: FutureWarning: Pass alpha=3.100000000000002 as keyword args. From version 1.0 (renaming of 0.25) passing these as positional arguments will result in an error\n",
      "  \"will result in an error\", FutureWarning)\n",
      "/Users/shrutikorada/opt/anaconda3/envs/fsan815/lib/python3.6/site-packages/sklearn/utils/validation.py:72: FutureWarning: Pass alpha=3.200000000000002 as keyword args. From version 1.0 (renaming of 0.25) passing these as positional arguments will result in an error\n",
      "  \"will result in an error\", FutureWarning)\n",
      "/Users/shrutikorada/opt/anaconda3/envs/fsan815/lib/python3.6/site-packages/sklearn/utils/validation.py:72: FutureWarning: Pass alpha=3.300000000000002 as keyword args. From version 1.0 (renaming of 0.25) passing these as positional arguments will result in an error\n",
      "  \"will result in an error\", FutureWarning)\n",
      "/Users/shrutikorada/opt/anaconda3/envs/fsan815/lib/python3.6/site-packages/sklearn/utils/validation.py:72: FutureWarning: Pass alpha=3.400000000000002 as keyword args. From version 1.0 (renaming of 0.25) passing these as positional arguments will result in an error\n",
      "  \"will result in an error\", FutureWarning)\n",
      "/Users/shrutikorada/opt/anaconda3/envs/fsan815/lib/python3.6/site-packages/sklearn/utils/validation.py:72: FutureWarning: Pass alpha=3.500000000000002 as keyword args. From version 1.0 (renaming of 0.25) passing these as positional arguments will result in an error\n",
      "  \"will result in an error\", FutureWarning)\n",
      "/Users/shrutikorada/opt/anaconda3/envs/fsan815/lib/python3.6/site-packages/sklearn/utils/validation.py:72: FutureWarning: Pass alpha=3.6000000000000023 as keyword args. From version 1.0 (renaming of 0.25) passing these as positional arguments will result in an error\n",
      "  \"will result in an error\", FutureWarning)\n",
      "/Users/shrutikorada/opt/anaconda3/envs/fsan815/lib/python3.6/site-packages/sklearn/utils/validation.py:72: FutureWarning: Pass alpha=3.7000000000000024 as keyword args. From version 1.0 (renaming of 0.25) passing these as positional arguments will result in an error\n",
      "  \"will result in an error\", FutureWarning)\n"
     ]
    },
    {
     "name": "stderr",
     "output_type": "stream",
     "text": [
      "/Users/shrutikorada/opt/anaconda3/envs/fsan815/lib/python3.6/site-packages/sklearn/utils/validation.py:72: FutureWarning: Pass alpha=3.8000000000000025 as keyword args. From version 1.0 (renaming of 0.25) passing these as positional arguments will result in an error\n",
      "  \"will result in an error\", FutureWarning)\n",
      "/Users/shrutikorada/opt/anaconda3/envs/fsan815/lib/python3.6/site-packages/sklearn/utils/validation.py:72: FutureWarning: Pass alpha=3.9000000000000026 as keyword args. From version 1.0 (renaming of 0.25) passing these as positional arguments will result in an error\n",
      "  \"will result in an error\", FutureWarning)\n",
      "/Users/shrutikorada/opt/anaconda3/envs/fsan815/lib/python3.6/site-packages/sklearn/utils/validation.py:72: FutureWarning: Pass alpha=4.000000000000003 as keyword args. From version 1.0 (renaming of 0.25) passing these as positional arguments will result in an error\n",
      "  \"will result in an error\", FutureWarning)\n",
      "/Users/shrutikorada/opt/anaconda3/envs/fsan815/lib/python3.6/site-packages/sklearn/utils/validation.py:72: FutureWarning: Pass alpha=4.100000000000003 as keyword args. From version 1.0 (renaming of 0.25) passing these as positional arguments will result in an error\n",
      "  \"will result in an error\", FutureWarning)\n",
      "/Users/shrutikorada/opt/anaconda3/envs/fsan815/lib/python3.6/site-packages/sklearn/utils/validation.py:72: FutureWarning: Pass alpha=4.200000000000003 as keyword args. From version 1.0 (renaming of 0.25) passing these as positional arguments will result in an error\n",
      "  \"will result in an error\", FutureWarning)\n",
      "/Users/shrutikorada/opt/anaconda3/envs/fsan815/lib/python3.6/site-packages/sklearn/utils/validation.py:72: FutureWarning: Pass alpha=4.3000000000000025 as keyword args. From version 1.0 (renaming of 0.25) passing these as positional arguments will result in an error\n",
      "  \"will result in an error\", FutureWarning)\n",
      "/Users/shrutikorada/opt/anaconda3/envs/fsan815/lib/python3.6/site-packages/sklearn/utils/validation.py:72: FutureWarning: Pass alpha=4.400000000000003 as keyword args. From version 1.0 (renaming of 0.25) passing these as positional arguments will result in an error\n",
      "  \"will result in an error\", FutureWarning)\n",
      "/Users/shrutikorada/opt/anaconda3/envs/fsan815/lib/python3.6/site-packages/sklearn/utils/validation.py:72: FutureWarning: Pass alpha=4.5000000000000036 as keyword args. From version 1.0 (renaming of 0.25) passing these as positional arguments will result in an error\n",
      "  \"will result in an error\", FutureWarning)\n",
      "/Users/shrutikorada/opt/anaconda3/envs/fsan815/lib/python3.6/site-packages/sklearn/utils/validation.py:72: FutureWarning: Pass alpha=4.600000000000003 as keyword args. From version 1.0 (renaming of 0.25) passing these as positional arguments will result in an error\n",
      "  \"will result in an error\", FutureWarning)\n",
      "/Users/shrutikorada/opt/anaconda3/envs/fsan815/lib/python3.6/site-packages/sklearn/utils/validation.py:72: FutureWarning: Pass alpha=4.700000000000003 as keyword args. From version 1.0 (renaming of 0.25) passing these as positional arguments will result in an error\n",
      "  \"will result in an error\", FutureWarning)\n",
      "/Users/shrutikorada/opt/anaconda3/envs/fsan815/lib/python3.6/site-packages/sklearn/utils/validation.py:72: FutureWarning: Pass alpha=4.800000000000003 as keyword args. From version 1.0 (renaming of 0.25) passing these as positional arguments will result in an error\n",
      "  \"will result in an error\", FutureWarning)\n",
      "/Users/shrutikorada/opt/anaconda3/envs/fsan815/lib/python3.6/site-packages/sklearn/utils/validation.py:72: FutureWarning: Pass alpha=4.900000000000004 as keyword args. From version 1.0 (renaming of 0.25) passing these as positional arguments will result in an error\n",
      "  \"will result in an error\", FutureWarning)\n",
      "/Users/shrutikorada/opt/anaconda3/envs/fsan815/lib/python3.6/site-packages/sklearn/utils/validation.py:72: FutureWarning: Pass alpha=5.0000000000000036 as keyword args. From version 1.0 (renaming of 0.25) passing these as positional arguments will result in an error\n",
      "  \"will result in an error\", FutureWarning)\n",
      "/Users/shrutikorada/opt/anaconda3/envs/fsan815/lib/python3.6/site-packages/sklearn/utils/validation.py:72: FutureWarning: Pass alpha=5.100000000000003 as keyword args. From version 1.0 (renaming of 0.25) passing these as positional arguments will result in an error\n",
      "  \"will result in an error\", FutureWarning)\n",
      "/Users/shrutikorada/opt/anaconda3/envs/fsan815/lib/python3.6/site-packages/sklearn/utils/validation.py:72: FutureWarning: Pass alpha=5.200000000000004 as keyword args. From version 1.0 (renaming of 0.25) passing these as positional arguments will result in an error\n",
      "  \"will result in an error\", FutureWarning)\n",
      "/Users/shrutikorada/opt/anaconda3/envs/fsan815/lib/python3.6/site-packages/sklearn/utils/validation.py:72: FutureWarning: Pass alpha=5.300000000000004 as keyword args. From version 1.0 (renaming of 0.25) passing these as positional arguments will result in an error\n",
      "  \"will result in an error\", FutureWarning)\n",
      "/Users/shrutikorada/opt/anaconda3/envs/fsan815/lib/python3.6/site-packages/sklearn/utils/validation.py:72: FutureWarning: Pass alpha=5.400000000000004 as keyword args. From version 1.0 (renaming of 0.25) passing these as positional arguments will result in an error\n",
      "  \"will result in an error\", FutureWarning)\n",
      "/Users/shrutikorada/opt/anaconda3/envs/fsan815/lib/python3.6/site-packages/sklearn/utils/validation.py:72: FutureWarning: Pass alpha=5.5000000000000036 as keyword args. From version 1.0 (renaming of 0.25) passing these as positional arguments will result in an error\n",
      "  \"will result in an error\", FutureWarning)\n",
      "/Users/shrutikorada/opt/anaconda3/envs/fsan815/lib/python3.6/site-packages/sklearn/utils/validation.py:72: FutureWarning: Pass alpha=5.600000000000004 as keyword args. From version 1.0 (renaming of 0.25) passing these as positional arguments will result in an error\n",
      "  \"will result in an error\", FutureWarning)\n",
      "/Users/shrutikorada/opt/anaconda3/envs/fsan815/lib/python3.6/site-packages/sklearn/utils/validation.py:72: FutureWarning: Pass alpha=5.700000000000005 as keyword args. From version 1.0 (renaming of 0.25) passing these as positional arguments will result in an error\n",
      "  \"will result in an error\", FutureWarning)\n",
      "/Users/shrutikorada/opt/anaconda3/envs/fsan815/lib/python3.6/site-packages/sklearn/utils/validation.py:72: FutureWarning: Pass alpha=5.800000000000004 as keyword args. From version 1.0 (renaming of 0.25) passing these as positional arguments will result in an error\n",
      "  \"will result in an error\", FutureWarning)\n",
      "/Users/shrutikorada/opt/anaconda3/envs/fsan815/lib/python3.6/site-packages/sklearn/utils/validation.py:72: FutureWarning: Pass alpha=5.900000000000004 as keyword args. From version 1.0 (renaming of 0.25) passing these as positional arguments will result in an error\n",
      "  \"will result in an error\", FutureWarning)\n",
      "/Users/shrutikorada/opt/anaconda3/envs/fsan815/lib/python3.6/site-packages/sklearn/utils/validation.py:72: FutureWarning: Pass alpha=6.000000000000004 as keyword args. From version 1.0 (renaming of 0.25) passing these as positional arguments will result in an error\n",
      "  \"will result in an error\", FutureWarning)\n",
      "/Users/shrutikorada/opt/anaconda3/envs/fsan815/lib/python3.6/site-packages/sklearn/utils/validation.py:72: FutureWarning: Pass alpha=6.100000000000005 as keyword args. From version 1.0 (renaming of 0.25) passing these as positional arguments will result in an error\n",
      "  \"will result in an error\", FutureWarning)\n",
      "/Users/shrutikorada/opt/anaconda3/envs/fsan815/lib/python3.6/site-packages/sklearn/utils/validation.py:72: FutureWarning: Pass alpha=6.200000000000005 as keyword args. From version 1.0 (renaming of 0.25) passing these as positional arguments will result in an error\n",
      "  \"will result in an error\", FutureWarning)\n",
      "/Users/shrutikorada/opt/anaconda3/envs/fsan815/lib/python3.6/site-packages/sklearn/utils/validation.py:72: FutureWarning: Pass alpha=6.300000000000004 as keyword args. From version 1.0 (renaming of 0.25) passing these as positional arguments will result in an error\n",
      "  \"will result in an error\", FutureWarning)\n",
      "/Users/shrutikorada/opt/anaconda3/envs/fsan815/lib/python3.6/site-packages/sklearn/utils/validation.py:72: FutureWarning: Pass alpha=6.400000000000005 as keyword args. From version 1.0 (renaming of 0.25) passing these as positional arguments will result in an error\n",
      "  \"will result in an error\", FutureWarning)\n",
      "/Users/shrutikorada/opt/anaconda3/envs/fsan815/lib/python3.6/site-packages/sklearn/utils/validation.py:72: FutureWarning: Pass alpha=6.500000000000005 as keyword args. From version 1.0 (renaming of 0.25) passing these as positional arguments will result in an error\n",
      "  \"will result in an error\", FutureWarning)\n"
     ]
    },
    {
     "name": "stderr",
     "output_type": "stream",
     "text": [
      "/Users/shrutikorada/opt/anaconda3/envs/fsan815/lib/python3.6/site-packages/sklearn/utils/validation.py:72: FutureWarning: Pass alpha=6.600000000000005 as keyword args. From version 1.0 (renaming of 0.25) passing these as positional arguments will result in an error\n",
      "  \"will result in an error\", FutureWarning)\n",
      "/Users/shrutikorada/opt/anaconda3/envs/fsan815/lib/python3.6/site-packages/sklearn/utils/validation.py:72: FutureWarning: Pass alpha=6.700000000000005 as keyword args. From version 1.0 (renaming of 0.25) passing these as positional arguments will result in an error\n",
      "  \"will result in an error\", FutureWarning)\n",
      "/Users/shrutikorada/opt/anaconda3/envs/fsan815/lib/python3.6/site-packages/sklearn/utils/validation.py:72: FutureWarning: Pass alpha=6.800000000000005 as keyword args. From version 1.0 (renaming of 0.25) passing these as positional arguments will result in an error\n",
      "  \"will result in an error\", FutureWarning)\n",
      "/Users/shrutikorada/opt/anaconda3/envs/fsan815/lib/python3.6/site-packages/sklearn/utils/validation.py:72: FutureWarning: Pass alpha=6.900000000000006 as keyword args. From version 1.0 (renaming of 0.25) passing these as positional arguments will result in an error\n",
      "  \"will result in an error\", FutureWarning)\n",
      "/Users/shrutikorada/opt/anaconda3/envs/fsan815/lib/python3.6/site-packages/sklearn/utils/validation.py:72: FutureWarning: Pass alpha=7.000000000000005 as keyword args. From version 1.0 (renaming of 0.25) passing these as positional arguments will result in an error\n",
      "  \"will result in an error\", FutureWarning)\n",
      "/Users/shrutikorada/opt/anaconda3/envs/fsan815/lib/python3.6/site-packages/sklearn/utils/validation.py:72: FutureWarning: Pass alpha=7.100000000000005 as keyword args. From version 1.0 (renaming of 0.25) passing these as positional arguments will result in an error\n",
      "  \"will result in an error\", FutureWarning)\n",
      "/Users/shrutikorada/opt/anaconda3/envs/fsan815/lib/python3.6/site-packages/sklearn/utils/validation.py:72: FutureWarning: Pass alpha=7.2000000000000055 as keyword args. From version 1.0 (renaming of 0.25) passing these as positional arguments will result in an error\n",
      "  \"will result in an error\", FutureWarning)\n",
      "/Users/shrutikorada/opt/anaconda3/envs/fsan815/lib/python3.6/site-packages/sklearn/utils/validation.py:72: FutureWarning: Pass alpha=7.300000000000006 as keyword args. From version 1.0 (renaming of 0.25) passing these as positional arguments will result in an error\n",
      "  \"will result in an error\", FutureWarning)\n",
      "/Users/shrutikorada/opt/anaconda3/envs/fsan815/lib/python3.6/site-packages/sklearn/utils/validation.py:72: FutureWarning: Pass alpha=7.400000000000006 as keyword args. From version 1.0 (renaming of 0.25) passing these as positional arguments will result in an error\n",
      "  \"will result in an error\", FutureWarning)\n",
      "/Users/shrutikorada/opt/anaconda3/envs/fsan815/lib/python3.6/site-packages/sklearn/utils/validation.py:72: FutureWarning: Pass alpha=7.500000000000005 as keyword args. From version 1.0 (renaming of 0.25) passing these as positional arguments will result in an error\n",
      "  \"will result in an error\", FutureWarning)\n",
      "/Users/shrutikorada/opt/anaconda3/envs/fsan815/lib/python3.6/site-packages/sklearn/utils/validation.py:72: FutureWarning: Pass alpha=7.600000000000006 as keyword args. From version 1.0 (renaming of 0.25) passing these as positional arguments will result in an error\n",
      "  \"will result in an error\", FutureWarning)\n",
      "/Users/shrutikorada/opt/anaconda3/envs/fsan815/lib/python3.6/site-packages/sklearn/utils/validation.py:72: FutureWarning: Pass alpha=7.700000000000006 as keyword args. From version 1.0 (renaming of 0.25) passing these as positional arguments will result in an error\n",
      "  \"will result in an error\", FutureWarning)\n",
      "/Users/shrutikorada/opt/anaconda3/envs/fsan815/lib/python3.6/site-packages/sklearn/utils/validation.py:72: FutureWarning: Pass alpha=7.800000000000006 as keyword args. From version 1.0 (renaming of 0.25) passing these as positional arguments will result in an error\n",
      "  \"will result in an error\", FutureWarning)\n",
      "/Users/shrutikorada/opt/anaconda3/envs/fsan815/lib/python3.6/site-packages/sklearn/utils/validation.py:72: FutureWarning: Pass alpha=7.900000000000006 as keyword args. From version 1.0 (renaming of 0.25) passing these as positional arguments will result in an error\n",
      "  \"will result in an error\", FutureWarning)\n",
      "/Users/shrutikorada/opt/anaconda3/envs/fsan815/lib/python3.6/site-packages/sklearn/utils/validation.py:72: FutureWarning: Pass alpha=8.000000000000007 as keyword args. From version 1.0 (renaming of 0.25) passing these as positional arguments will result in an error\n",
      "  \"will result in an error\", FutureWarning)\n",
      "/Users/shrutikorada/opt/anaconda3/envs/fsan815/lib/python3.6/site-packages/sklearn/utils/validation.py:72: FutureWarning: Pass alpha=8.100000000000007 as keyword args. From version 1.0 (renaming of 0.25) passing these as positional arguments will result in an error\n",
      "  \"will result in an error\", FutureWarning)\n",
      "/Users/shrutikorada/opt/anaconda3/envs/fsan815/lib/python3.6/site-packages/sklearn/utils/validation.py:72: FutureWarning: Pass alpha=8.200000000000006 as keyword args. From version 1.0 (renaming of 0.25) passing these as positional arguments will result in an error\n",
      "  \"will result in an error\", FutureWarning)\n",
      "/Users/shrutikorada/opt/anaconda3/envs/fsan815/lib/python3.6/site-packages/sklearn/utils/validation.py:72: FutureWarning: Pass alpha=8.300000000000006 as keyword args. From version 1.0 (renaming of 0.25) passing these as positional arguments will result in an error\n",
      "  \"will result in an error\", FutureWarning)\n",
      "/Users/shrutikorada/opt/anaconda3/envs/fsan815/lib/python3.6/site-packages/sklearn/utils/validation.py:72: FutureWarning: Pass alpha=8.400000000000006 as keyword args. From version 1.0 (renaming of 0.25) passing these as positional arguments will result in an error\n",
      "  \"will result in an error\", FutureWarning)\n",
      "/Users/shrutikorada/opt/anaconda3/envs/fsan815/lib/python3.6/site-packages/sklearn/utils/validation.py:72: FutureWarning: Pass alpha=8.500000000000007 as keyword args. From version 1.0 (renaming of 0.25) passing these as positional arguments will result in an error\n",
      "  \"will result in an error\", FutureWarning)\n",
      "/Users/shrutikorada/opt/anaconda3/envs/fsan815/lib/python3.6/site-packages/sklearn/utils/validation.py:72: FutureWarning: Pass alpha=8.600000000000007 as keyword args. From version 1.0 (renaming of 0.25) passing these as positional arguments will result in an error\n",
      "  \"will result in an error\", FutureWarning)\n",
      "/Users/shrutikorada/opt/anaconda3/envs/fsan815/lib/python3.6/site-packages/sklearn/utils/validation.py:72: FutureWarning: Pass alpha=8.700000000000006 as keyword args. From version 1.0 (renaming of 0.25) passing these as positional arguments will result in an error\n",
      "  \"will result in an error\", FutureWarning)\n",
      "/Users/shrutikorada/opt/anaconda3/envs/fsan815/lib/python3.6/site-packages/sklearn/utils/validation.py:72: FutureWarning: Pass alpha=8.800000000000008 as keyword args. From version 1.0 (renaming of 0.25) passing these as positional arguments will result in an error\n",
      "  \"will result in an error\", FutureWarning)\n",
      "/Users/shrutikorada/opt/anaconda3/envs/fsan815/lib/python3.6/site-packages/sklearn/utils/validation.py:72: FutureWarning: Pass alpha=8.900000000000007 as keyword args. From version 1.0 (renaming of 0.25) passing these as positional arguments will result in an error\n",
      "  \"will result in an error\", FutureWarning)\n",
      "/Users/shrutikorada/opt/anaconda3/envs/fsan815/lib/python3.6/site-packages/sklearn/utils/validation.py:72: FutureWarning: Pass alpha=9.000000000000007 as keyword args. From version 1.0 (renaming of 0.25) passing these as positional arguments will result in an error\n",
      "  \"will result in an error\", FutureWarning)\n",
      "/Users/shrutikorada/opt/anaconda3/envs/fsan815/lib/python3.6/site-packages/sklearn/utils/validation.py:72: FutureWarning: Pass alpha=9.100000000000007 as keyword args. From version 1.0 (renaming of 0.25) passing these as positional arguments will result in an error\n",
      "  \"will result in an error\", FutureWarning)\n",
      "/Users/shrutikorada/opt/anaconda3/envs/fsan815/lib/python3.6/site-packages/sklearn/utils/validation.py:72: FutureWarning: Pass alpha=9.200000000000006 as keyword args. From version 1.0 (renaming of 0.25) passing these as positional arguments will result in an error\n",
      "  \"will result in an error\", FutureWarning)\n",
      "/Users/shrutikorada/opt/anaconda3/envs/fsan815/lib/python3.6/site-packages/sklearn/utils/validation.py:72: FutureWarning: Pass alpha=9.300000000000008 as keyword args. From version 1.0 (renaming of 0.25) passing these as positional arguments will result in an error\n",
      "  \"will result in an error\", FutureWarning)\n"
     ]
    },
    {
     "name": "stderr",
     "output_type": "stream",
     "text": [
      "/Users/shrutikorada/opt/anaconda3/envs/fsan815/lib/python3.6/site-packages/sklearn/utils/validation.py:72: FutureWarning: Pass alpha=9.400000000000007 as keyword args. From version 1.0 (renaming of 0.25) passing these as positional arguments will result in an error\n",
      "  \"will result in an error\", FutureWarning)\n",
      "/Users/shrutikorada/opt/anaconda3/envs/fsan815/lib/python3.6/site-packages/sklearn/utils/validation.py:72: FutureWarning: Pass alpha=9.500000000000007 as keyword args. From version 1.0 (renaming of 0.25) passing these as positional arguments will result in an error\n",
      "  \"will result in an error\", FutureWarning)\n",
      "/Users/shrutikorada/opt/anaconda3/envs/fsan815/lib/python3.6/site-packages/sklearn/utils/validation.py:72: FutureWarning: Pass alpha=9.600000000000009 as keyword args. From version 1.0 (renaming of 0.25) passing these as positional arguments will result in an error\n",
      "  \"will result in an error\", FutureWarning)\n",
      "/Users/shrutikorada/opt/anaconda3/envs/fsan815/lib/python3.6/site-packages/sklearn/utils/validation.py:72: FutureWarning: Pass alpha=9.700000000000008 as keyword args. From version 1.0 (renaming of 0.25) passing these as positional arguments will result in an error\n",
      "  \"will result in an error\", FutureWarning)\n",
      "/Users/shrutikorada/opt/anaconda3/envs/fsan815/lib/python3.6/site-packages/sklearn/utils/validation.py:72: FutureWarning: Pass alpha=9.800000000000008 as keyword args. From version 1.0 (renaming of 0.25) passing these as positional arguments will result in an error\n",
      "  \"will result in an error\", FutureWarning)\n",
      "/Users/shrutikorada/opt/anaconda3/envs/fsan815/lib/python3.6/site-packages/sklearn/utils/validation.py:72: FutureWarning: Pass alpha=9.900000000000007 as keyword args. From version 1.0 (renaming of 0.25) passing these as positional arguments will result in an error\n",
      "  \"will result in an error\", FutureWarning)\n"
     ]
    },
    {
     "name": "stdout",
     "output_type": "stream",
     "text": [
      "Best alpha:  1.1\n"
     ]
    },
    {
     "data": {
      "image/png": "[encoded data removed]",
      "text/plain": [
       "<Figure size 432x288 with 1 Axes>"
      ]
     },
     "metadata": {
      "needs_background": "light"
     },
     "output_type": "display_data"
    }
   ],
   "source": [
    "from sklearn.naive_bayes import MultinomialNB\n",
    "\n",
    "res = pd.Series([get_auc_CV(MultinomialNB(i))\n",
    "                 for i in np.arange(1, 10, 0.1)],\n",
    "                index=np.arange(1, 10, 0.1))\n",
    "\n",
    "best_alpha = np.round(res.idxmax(), 2)\n",
    "print('Best alpha: ', best_alpha)\n",
    "\n",
    "plt.plot(res)\n",
    "plt.title('AUC vs. Alpha')\n",
    "plt.xlabel('Alpha')\n",
    "plt.ylabel('AUC')\n",
    "plt.show()"
   ]
  },
  {
   "cell_type": "markdown",
   "metadata": {},
   "source": [
    "### 2.2. Evaluation on Validation Set\n",
    "To evaluate the performance of our model, we will calculate the accuracy rate and the AUC score of our model on the validation set."
   ]
  },
  {
   "cell_type": "code",
   "execution_count": 11,
   "metadata": {},
   "outputs": [],
   "source": [
    "from sklearn.metrics import accuracy_score, roc_curve, auc\n",
    "\n",
    "def evaluate_roc(probs, y_true):\n",
    "    \"\"\"\n",
    "    - Print AUC and accuracy on the test set\n",
    "    - Plot ROC\n",
    "    @params    probs (np.array): an array of predicted probabilities with shape (len(y_true), 2)\n",
    "    @params    y_true (np.array): an array of the true values with shape (len(y_true),)\n",
    "    \"\"\"\n",
    "    preds = probs[:, 1]\n",
    "    fpr, tpr, threshold = roc_curve(y_true, preds)\n",
    "    roc_auc = auc(fpr, tpr)\n",
    "    print(f'AUC: {roc_auc:.4f}')\n",
    "       \n",
    "    # Get accuracy over the test set\n",
    "    y_pred = np.where(preds >= 0.5, 1, 0)\n",
    "    accuracy = accuracy_score(y_true, y_pred)\n",
    "    print(f'Accuracy: {accuracy*100:.2f}%')\n",
    "    \n",
    "    # Plot ROC AUC\n",
    "    plt.title('Receiver Operating Characteristic')\n",
    "    plt.plot(fpr, tpr, 'b', label = 'AUC = %0.2f' % roc_auc)\n",
    "    plt.legend(loc = 'lower right')\n",
    "    plt.plot([0, 1], [0, 1],'r--')\n",
    "    plt.xlim([0, 1])\n",
    "    plt.ylim([0, 1])\n",
    "    plt.ylabel('True Positive Rate')\n",
    "    plt.xlabel('False Positive Rate')\n",
    "    plt.show()"
   ]
  },
  {
   "cell_type": "markdown",
   "metadata": {},
   "source": [
    "By combining TF-IDF and the Naive Bayes algorithm, we achieve the accuracy rate of 71.65% on the validation set. This value is the baseline performance and will be used to evaluate the performance of our fine-tune BERT model."
   ]
  },
  {
   "cell_type": "code",
   "execution_count": 12,
   "metadata": {},
   "outputs": [
    {
     "name": "stdout",
     "output_type": "stream",
     "text": [
      "AUC: 0.9039\n",
      "Accuracy: 71.65%\n"
     ]
    },
    {
     "data": {
      "image/png": "[encoded data removed]",
      "text/plain": [
       "<Figure size 432x288 with 1 Axes>"
      ]
     },
     "metadata": {
      "needs_background": "light"
     },
     "output_type": "display_data"
    }
   ],
   "source": [
    "# Compute predicted probabilities\n",
    "nb_model = MultinomialNB(alpha=1.8)\n",
    "nb_model.fit(X_train_tfidf, y_train)\n",
    "probs = nb_model.predict_proba(X_val_tfidf)\n",
    "\n",
    "# Evaluate the classifier\n",
    "evaluate_roc(probs, y_val)"
   ]
  },
  {
   "cell_type": "markdown",
   "metadata": {},
   "source": [
    "## D - Fine-tuning BERT\n",
    "### 1. Install the Hugging Face Library\n",
    "The transformer library of Hugging Face contains PyTorch implementation of state-of-the-art NLP models including BERT (from Google), GPT (from OpenAI) ... and pre-trained model weights."
   ]
  },
  {
   "cell_type": "code",
   "execution_count": 13,
   "metadata": {},
   "outputs": [],
   "source": [
    "#!pip install transformers"
   ]
  },
  {
   "cell_type": "markdown",
   "metadata": {},
   "source": [
    "## 2. Tokenization and Input Formatting\n",
    "Before tokenizing our text, we will perform some slight processing on our text including removing entity mentions (eg. @united) and some special character. The level of processing here is much less than in previous approachs because BERT was trained with the entire sentences."
   ]
  },
  {
   "cell_type": "code",
   "execution_count": 14,
   "metadata": {},
   "outputs": [],
   "source": [
    "def text_preprocessing(text):\n",
    "    \"\"\"\n",
    "    - Remove entity mentions (eg. '@united')\n",
    "    - Correct errors (eg. '&amp;' to '&')\n",
    "    @param    text (str): a string to be processed.\n",
    "    @return   text (Str): the processed string.\n",
    "    \"\"\"\n",
    "    # Remove '@name'\n",
    "    text = re.sub(r'(@.*?)[\\s]', ' ', text)\n",
    "\n",
    "    # Replace '&amp;' with '&'\n",
    "    text = re.sub(r'&amp;', '&', text)\n",
    "\n",
    "    # Remove trailing whitespace\n",
    "    text = re.sub(r'\\s+', ' ', text).strip()\n",
    "\n",
    "    return text"
   ]
  },
  {
   "cell_type": "code",
   "execution_count": 15,
   "metadata": {},
   "outputs": [
    {
     "name": "stdout",
     "output_type": "stream",
     "text": [
      "Original:  @VirginAmerica it's really aggressive to blast obnoxious \"entertainment\" in your guests' faces &amp; they have little recourse\n",
      "Processed:  it's really aggressive to blast obnoxious \"entertainment\" in your guests' faces & they have little recourse\n"
     ]
    }
   ],
   "source": [
    "# Print sentence 3\n",
    "print('Original: ', X[3])\n",
    "print('Processed: ', text_preprocessing(X[3]))"
   ]
  },
  {
   "cell_type": "markdown",
   "metadata": {},
   "source": [
    "### 2.1. BERT Tokenizer¶\n",
    "In order to apply the pre-trained BERT, we must use the tokenizer provided by the library. This is because (1) the model has a specific, fixed vocabulary and (2) the BERT tokenizer has a particular way of handling out-of-vocabulary words.\n",
    "\n",
    "In addition, we are required to add special tokens to the start and end of each sentence, pad & truncate all sentences to a single constant length, and explicitly specify what are padding tokens with the \"attention mask\".\n",
    "\n",
    "The encode_plus method of BERT tokenizer will:\n",
    "\n",
    "(1) split our text into tokens,\n",
    "\n",
    "(2) add the special [CLS] and [SEP] tokens, and\n",
    "\n",
    "(3) convert these tokens into indexes of the tokenizer vocabulary,\n",
    "\n",
    "(4) pad or truncate sentences to max length, and\n",
    "\n",
    "(5) create attention mask."
   ]
  },
  {
   "cell_type": "code",
   "execution_count": 16,
   "metadata": {},
   "outputs": [],
   "source": [
    "from transformers import BertTokenizer\n",
    "\n",
    "# Load the BERT tokenizer\n",
    "tokenizer = BertTokenizer.from_pretrained('bert-base-uncased', do_lower_case=True)\n",
    "\n",
    "# Create a function to tokenize a set of texts\n",
    "def preprocessing_for_bert(data):\n",
    "    \"\"\"Perform required preprocessing steps for pretrained BERT.\n",
    "    @param    data (np.array): Array of texts to be processed.\n",
    "    @return   input_ids (torch.Tensor): Tensor of token ids to be fed to a model.\n",
    "    @return   attention_masks (torch.Tensor): Tensor of indices specifying which\n",
    "                  tokens should be attended to by the model.\n",
    "    \"\"\"\n",
    "    # Create empty lists to store outputs\n",
    "    input_ids = []\n",
    "    attention_masks = []\n",
    "\n",
    "    # For every sentence...\n",
    "    for sent in data:\n",
    "        # `encode_plus` will:\n",
    "        #    (1) Tokenize the sentence\n",
    "        #    (2) Add the `[CLS]` and `[SEP]` token to the start and end\n",
    "        #    (3) Truncate/Pad sentence to max length\n",
    "        #    (4) Map tokens to their IDs\n",
    "        #    (5) Create attention mask\n",
    "        #    (6) Return a dictionary of outputs\n",
    "        encoded_sent = tokenizer.encode_plus(\n",
    "            text=text_preprocessing(sent),  # Preprocess sentence\n",
    "            add_special_tokens=True,        # Add `[CLS]` and `[SEP]`\n",
    "            max_length=MAX_LEN,                  # Max length to truncate/pad\n",
    "            pad_to_max_length=True,         # Pad sentence to max length\n",
    "            #return_tensors='pt',           # Return PyTorch tensor\n",
    "            return_attention_mask=True      # Return attention mask\n",
    "            )\n",
    "        \n",
    "        # Add the outputs to the lists\n",
    "        input_ids.append(encoded_sent.get('input_ids'))\n",
    "        attention_masks.append(encoded_sent.get('attention_mask'))\n",
    "\n",
    "    # Convert lists to tensors\n",
    "    input_ids = torch.tensor(input_ids)\n",
    "    attention_masks = torch.tensor(attention_masks)\n",
    "\n",
    "    return input_ids, attention_masks"
   ]
  },
  {
   "cell_type": "markdown",
   "metadata": {},
   "source": [
    "Before tokenizing, we need to specify the maximum length of our sentences."
   ]
  },
  {
   "cell_type": "code",
   "execution_count": 17,
   "metadata": {},
   "outputs": [
    {
     "name": "stdout",
     "output_type": "stream",
     "text": [
      "Max length:  67\n"
     ]
    }
   ],
   "source": [
    "# Encode our concatenated data\n",
    "encoded_tweets = [tokenizer.encode(sent, add_special_tokens=True) for sent in data.tweet]\n",
    "\n",
    "# Find the maximum length\n",
    "max_len = max([len(sent) for sent in encoded_tweets])\n",
    "print('Max length: ', max_len)"
   ]
  },
  {
   "cell_type": "code",
   "execution_count": 18,
   "metadata": {},
   "outputs": [
    {
     "name": "stderr",
     "output_type": "stream",
     "text": [
      "Truncation was not explicitly activated but `max_length` is provided a specific value, please use `truncation=True` to explicitly truncate examples to max length. Defaulting to 'longest_first' truncation strategy. If you encode pairs of sequences (GLUE-style) with the tokenizer you can select this strategy more precisely by providing a specific strategy to `truncation`.\n"
     ]
    },
    {
     "name": "stdout",
     "output_type": "stream",
     "text": [
      "Original:  @VirginAmerica What @dhepburn said.\n",
      "Token IDs:  [101, 2054, 2056, 1012, 102, 0, 0, 0, 0, 0, 0, 0, 0, 0, 0, 0, 0, 0, 0, 0, 0, 0, 0, 0, 0, 0, 0, 0, 0, 0, 0, 0, 0, 0, 0, 0, 0, 0, 0, 0, 0, 0, 0, 0, 0, 0, 0, 0, 0, 0, 0, 0, 0, 0, 0, 0, 0, 0, 0, 0, 0, 0, 0, 0, 0, 0, 0]\n",
      "Tokenizing data...\n"
     ]
    },
    {
     "name": "stderr",
     "output_type": "stream",
     "text": [
      "/Users/shrutikorada/opt/anaconda3/envs/fsan815/lib/python3.6/site-packages/transformers/tokenization_utils_base.py:2132: FutureWarning: The `pad_to_max_length` argument is deprecated and will be removed in a future version, use `padding=True` or `padding='longest'` to pad to the longest sequence in the batch, or use `padding='max_length'` to pad to a max length. In this case, you can give a specific length with `max_length` (e.g. `max_length=45`) or leave max_length to None to pad to the maximal input size of the model (e.g. 512 for Bert).\n",
      "  FutureWarning,\n"
     ]
    }
   ],
   "source": [
    "# Specify `MAX_LEN`\n",
    "MAX_LEN = 67\n",
    "\n",
    "# Print sentence 0 and its encoded token ids\n",
    "token_ids = list(preprocessing_for_bert([X[0]])[0].squeeze().numpy())\n",
    "print('Original: ', X[0])\n",
    "print('Token IDs: ', token_ids)\n",
    "\n",
    "# Run function `preprocessing_for_bert` on the train set and the validation set\n",
    "print('Tokenizing data...')\n",
    "train_inputs, train_masks = preprocessing_for_bert(X_train)\n",
    "val_inputs, val_masks = preprocessing_for_bert(X_val)"
   ]
  },
  {
   "cell_type": "markdown",
   "metadata": {},
   "source": [
    "### 2.2. Create PyTorch DataLoader\n",
    "We will create an iterator for our dataset using the torch DataLoader class. This will help save on memory during training and boost the training speed."
   ]
  },
  {
   "cell_type": "code",
   "execution_count": 19,
   "metadata": {},
   "outputs": [],
   "source": [
    "from torch.utils.data import TensorDataset, DataLoader, RandomSampler, SequentialSampler\n",
    "\n",
    "# Convert other data types to torch.Tensor\n",
    "train_labels = torch.tensor(y_train)\n",
    "val_labels = torch.tensor(y_val)\n",
    "\n",
    "# For fine-tuning BERT, the authors recommend a batch size of 16 or 32.\n",
    "batch_size = 32\n",
    "\n",
    "# Create the DataLoader for our training set\n",
    "train_data = TensorDataset(train_inputs, train_masks, train_labels)\n",
    "train_sampler = RandomSampler(train_data)\n",
    "train_dataloader = DataLoader(train_data, sampler=train_sampler, batch_size=batch_size)\n",
    "\n",
    "# Create the DataLoader for our validation set\n",
    "val_data = TensorDataset(val_inputs, val_masks, val_labels)\n",
    "val_sampler = SequentialSampler(val_data)\n",
    "val_dataloader = DataLoader(val_data, sampler=val_sampler, batch_size=batch_size)"
   ]
  },
  {
   "cell_type": "markdown",
   "metadata": {},
   "source": [
    "## 3. Train Our Model\n",
    "### 3.1. Create BertClassifier\n",
    "BERT-base consists of 12 transformer layers, each transformer layer takes in a list of token embeddings, and produces the same number of embeddings with the same hidden size (or dimensions) on the output. The output of the final transformer layer of the [CLS] token is used as the features of the sequence to feed a classifier.\n",
    "\n",
    "The transformers library has the BertForSequenceClassification class which is designed for classification tasks. However, we will create a new class so we can specify our own choice of classifiers.\n",
    "\n",
    "Below we will create a BertClassifier class with a BERT model to extract the last hidden layer of the [CLS] token and a single-hidden-layer feed-forward neural network as our classifier."
   ]
  },
  {
   "cell_type": "code",
   "execution_count": 20,
   "metadata": {},
   "outputs": [
    {
     "name": "stdout",
     "output_type": "stream",
     "text": [
      "CPU times: user 37.1 ms, sys: 6.04 ms, total: 43.1 ms\n",
      "Wall time: 45.3 ms\n"
     ]
    }
   ],
   "source": [
    "%%time\n",
    "import torch\n",
    "import torch.nn as nn\n",
    "from transformers import BertModel\n",
    "\n",
    "# Create the BertClassfier class\n",
    "class BertClassifier(nn.Module):\n",
    "    \"\"\"Bert Model for Classification Tasks.\n",
    "    \"\"\"\n",
    "    def __init__(self, freeze_bert=False):\n",
    "        \"\"\"\n",
    "        @param    bert: a BertModel object\n",
    "        @param    classifier: a torch.nn.Module classifier\n",
    "        @param    freeze_bert (bool): Set `False` to fine-tune the BERT model\n",
    "        \"\"\"\n",
    "        super(BertClassifier, self).__init__()\n",
    "        # Specify hidden size of BERT, hidden size of our classifier, and number of labels\n",
    "        D_in, H, D_out = 768, 50, 2\n",
    "\n",
    "        # Instantiate BERT model\n",
    "        self.bert = BertModel.from_pretrained('bert-base-uncased')\n",
    "\n",
    "        # Instantiate an one-layer feed-forward classifier\n",
    "        self.classifier = nn.Sequential(\n",
    "            nn.Linear(D_in, H),\n",
    "            nn.ReLU(),\n",
    "            #nn.Dropout(0.5),\n",
    "            nn.Linear(H, D_out)\n",
    "        )\n",
    "\n",
    "        # Freeze the BERT model\n",
    "        if freeze_bert:\n",
    "            for param in self.bert.parameters():\n",
    "                param.requires_grad = False\n",
    "        \n",
    "    def forward(self, input_ids, attention_mask):\n",
    "        \"\"\"\n",
    "        Feed input to BERT and the classifier to compute logits.\n",
    "        @param    input_ids (torch.Tensor): an input tensor with shape (batch_size,\n",
    "                      max_length)\n",
    "        @param    attention_mask (torch.Tensor): a tensor that hold attention mask\n",
    "                      information with shape (batch_size, max_length)\n",
    "        @return   logits (torch.Tensor): an output tensor with shape (batch_size,\n",
    "                      num_labels)\n",
    "        \"\"\"\n",
    "        # Feed input to BERT\n",
    "        outputs = self.bert(input_ids=input_ids,\n",
    "                            attention_mask=attention_mask)\n",
    "        \n",
    "        # Extract the last hidden state of the token `[CLS]` for classification task\n",
    "        last_hidden_state_cls = outputs[0][:, 0, :]\n",
    "\n",
    "        # Feed input to classifier to compute logits\n",
    "        logits = self.classifier(last_hidden_state_cls)\n",
    "\n",
    "        return logits"
   ]
  },
  {
   "cell_type": "markdown",
   "metadata": {},
   "source": [
    "### 3.2. Optimizer & Learning Rate Scheduler\n",
    "To fine-tune our Bert Classifier, we need to create an optimizer. The authors recommend following hyper-parameters:\n",
    "\n",
    "Batch size: 16 or 32\n",
    "Learning rate (Adam): 5e-5, 3e-5 or 2e-5\n",
    "Number of epochs: 2, 3, 4\n",
    "Huggingface provided the run_glue.py script, an examples of implementing the transformers library. In the script, the AdamW optimizer is used."
   ]
  },
  {
   "cell_type": "code",
   "execution_count": 21,
   "metadata": {},
   "outputs": [],
   "source": [
    "# Set device\n",
    "device = torch.device(\"cpu\")"
   ]
  },
  {
   "cell_type": "code",
   "execution_count": 22,
   "metadata": {},
   "outputs": [],
   "source": [
    "from transformers import AdamW, get_linear_schedule_with_warmup\n",
    "\n",
    "def initialize_model(epochs=4):\n",
    "    \"\"\"Initialize the Bert Classifier, the optimizer and the learning rate scheduler.\n",
    "    \"\"\"\n",
    "    # Instantiate Bert Classifier\n",
    "    bert_classifier = BertClassifier(freeze_bert=False)\n",
    "\n",
    "    # Tell PyTorch to run the model on GPU\n",
    "    bert_classifier.to(device)\n",
    "\n",
    "    # Create the optimizer\n",
    "    optimizer = AdamW(bert_classifier.parameters(),\n",
    "                      lr=5e-5,    # Default learning rate\n",
    "                      eps=1e-8    # Default epsilon value\n",
    "                      )\n",
    "\n",
    "    # Total number of training steps\n",
    "    total_steps = len(train_dataloader) * epochs\n",
    "\n",
    "    # Set up the learning rate scheduler\n",
    "    scheduler = get_linear_schedule_with_warmup(optimizer,\n",
    "                                                num_warmup_steps=0, # Default value\n",
    "                                                num_training_steps=total_steps)\n",
    "    return bert_classifier, optimizer, scheduler"
   ]
  },
  {
   "cell_type": "markdown",
   "metadata": {},
   "source": [
    "### 3.3. Training Loop\n",
    "We will train our Bert Classifier for 4 epochs. In each epoch, we will train our model and evaluate its performance on the validation set. In more details, we will:\n",
    "\n",
    "#### Training:\n",
    "\n",
    "Unpack our data from the dataloader and load the data onto the GPU\n",
    "Zero out gradients calculated in the previous pass\n",
    "Perform a forward pass to compute logits and loss\n",
    "Perform a backward pass to compute gradients (loss.backward())\n",
    "Clip the norm of the gradients to 1.0 to prevent \"exploding gradients\"\n",
    "Update the model's parameters (optimizer.step())\n",
    "Update the learning rate (scheduler.step())\n",
    "\n",
    "#### Evaluation:\n",
    "\n",
    "Unpack our data and load onto the GPU\n",
    "Forward pass\n",
    "Compute loss and accuracy rate over the validation set\n",
    "The script below is commented with the details of our training and evaluation loop."
   ]
  },
  {
   "cell_type": "code",
   "execution_count": 23,
   "metadata": {},
   "outputs": [],
   "source": [
    "import random\n",
    "import time\n",
    "\n",
    "# Specify loss function\n",
    "loss_fn = nn.CrossEntropyLoss()\n",
    "\n",
    "def set_seed(seed_value=42):\n",
    "    \"\"\"Set seed for reproducibility.\n",
    "    \"\"\"\n",
    "    random.seed(seed_value)\n",
    "    np.random.seed(seed_value)\n",
    "    torch.manual_seed(seed_value)\n",
    "    torch.cuda.manual_seed_all(seed_value)\n",
    "\n",
    "def train(model, train_dataloader, val_dataloader=None, epochs=4, evaluation=False):\n",
    "    \"\"\"Train the BertClassifier model.\n",
    "    \"\"\"\n",
    "    # Start training loop\n",
    "    print(\"Start training...\\n\")\n",
    "    for epoch_i in range(epochs):\n",
    "        # =======================================\n",
    "        #               Training\n",
    "        # =======================================\n",
    "        # Print the header of the result table\n",
    "        print(f\"{'Epoch':^7} | {'Batch':^7} | {'Train Loss':^12} | {'Val Loss':^10} | {'Val Acc':^9} | {'Elapsed':^9}\")\n",
    "        print(\"-\"*70)\n",
    "\n",
    "        # Measure the elapsed time of each epoch\n",
    "        t0_epoch, t0_batch = time.time(), time.time()\n",
    "\n",
    "        # Reset tracking variables at the beginning of each epoch\n",
    "        total_loss, batch_loss, batch_counts = 0, 0, 0\n",
    "\n",
    "        # Put the model into the training mode\n",
    "        model.train()\n",
    "\n",
    "        # For each batch of training data...\n",
    "        for step, batch in enumerate(train_dataloader):\n",
    "            batch_counts +=1\n",
    "            # Load batch to GPU\n",
    "            b_input_ids, b_attn_mask, b_labels = tuple(t.to(device) for t in batch)\n",
    "\n",
    "            # Zero out any previously calculated gradients\n",
    "            model.zero_grad()\n",
    "\n",
    "            # Perform a forward pass. This will return logits.\n",
    "            logits = model(b_input_ids, b_attn_mask)\n",
    "\n",
    "            # Compute loss and accumulate the loss values\n",
    "            loss = loss_fn(logits, b_labels)\n",
    "            batch_loss += loss.item()\n",
    "            total_loss += loss.item()\n",
    "\n",
    "            # Perform a backward pass to calculate gradients\n",
    "            loss.backward()\n",
    "\n",
    "            # Clip the norm of the gradients to 1.0 to prevent \"exploding gradients\"\n",
    "            torch.nn.utils.clip_grad_norm_(model.parameters(), 1.0)\n",
    "\n",
    "            # Update parameters and the learning rate\n",
    "            optimizer.step()\n",
    "            scheduler.step()\n",
    "\n",
    "            # Print the loss values and time elapsed for every 20 batches\n",
    "            if (step % 20 == 0 and step != 0) or (step == len(train_dataloader) - 1):\n",
    "                # Calculate time elapsed for 20 batches\n",
    "                time_elapsed = time.time() - t0_batch\n",
    "\n",
    "                # Print training results\n",
    "                print(f\"{epoch_i + 1:^7} | {step:^7} | {batch_loss / batch_counts:^12.6f} | {'-':^10} | {'-':^9} | {time_elapsed:^9.2f}\")\n",
    "\n",
    "                # Reset batch tracking variables\n",
    "                batch_loss, batch_counts = 0, 0\n",
    "                t0_batch = time.time()\n",
    "\n",
    "        # Calculate the average loss over the entire training data\n",
    "        avg_train_loss = total_loss / len(train_dataloader)\n",
    "\n",
    "        print(\"-\"*70)\n",
    "        # =======================================\n",
    "        #               Evaluation\n",
    "        # =======================================\n",
    "        if evaluation == True:\n",
    "            # After the completion of each training epoch, measure the model's performance\n",
    "            # on our validation set.\n",
    "            val_loss, val_accuracy = evaluate(model, val_dataloader)\n",
    "\n",
    "            # Print performance over the entire training data\n",
    "            time_elapsed = time.time() - t0_epoch\n",
    "            \n",
    "            print(f\"{epoch_i + 1:^7} | {'-':^7} | {avg_train_loss:^12.6f} | {val_loss:^10.6f} | {val_accuracy:^9.2f} | {time_elapsed:^9.2f}\")\n",
    "            print(\"-\"*70)\n",
    "        print(\"\\n\")\n",
    "    \n",
    "    print(\"Training complete!\")\n",
    "\n",
    "\n",
    "def evaluate(model, val_dataloader):\n",
    "    \"\"\"After the completion of each training epoch, measure the model's performance\n",
    "    on our validation set.\n",
    "    \"\"\"\n",
    "    # Put the model into the evaluation mode. The dropout layers are disabled during\n",
    "    # the test time.\n",
    "    model.eval()\n",
    "\n",
    "    # Tracking variables\n",
    "    val_accuracy = []\n",
    "    val_loss = []\n",
    "\n",
    "    # For each batch in our validation set...\n",
    "    for batch in val_dataloader:\n",
    "        # Load batch to GPU\n",
    "        b_input_ids, b_attn_mask, b_labels = tuple(t.to(device) for t in batch)\n",
    "\n",
    "        # Compute logits\n",
    "        with torch.no_grad():\n",
    "            logits = model(b_input_ids, b_attn_mask)\n",
    "\n",
    "        # Compute loss\n",
    "        loss = loss_fn(logits, b_labels)\n",
    "        val_loss.append(loss.item())\n",
    "\n",
    "        # Get the predictions\n",
    "        preds = torch.argmax(logits, dim=1).flatten()\n",
    "\n",
    "        # Calculate the accuracy rate\n",
    "        accuracy = (preds == b_labels).cpu().numpy().mean() * 100\n",
    "        val_accuracy.append(accuracy)\n",
    "\n",
    "    # Compute the average accuracy and loss over the validation set.\n",
    "    val_loss = np.mean(val_loss)\n",
    "    val_accuracy = np.mean(val_accuracy)\n",
    "\n",
    "    return val_loss, val_accuracy"
   ]
  },
  {
   "cell_type": "markdown",
   "metadata": {},
   "source": [
    "Now, let's start training our BertClassifier!"
   ]
  },
  {
   "cell_type": "code",
   "execution_count": 24,
   "metadata": {},
   "outputs": [
    {
     "name": "stderr",
     "output_type": "stream",
     "text": [
      "Some weights of the model checkpoint at bert-base-uncased were not used when initializing BertModel: ['cls.predictions.transform.dense.weight', 'cls.predictions.transform.LayerNorm.bias', 'cls.predictions.transform.dense.bias', 'cls.seq_relationship.weight', 'cls.predictions.bias', 'cls.seq_relationship.bias', 'cls.predictions.transform.LayerNorm.weight', 'cls.predictions.decoder.weight']\n",
      "- This IS expected if you are initializing BertModel from the checkpoint of a model trained on another task or with another architecture (e.g. initializing a BertForSequenceClassification model from a BertForPreTraining model).\n",
      "- This IS NOT expected if you are initializing BertModel from the checkpoint of a model that you expect to be exactly identical (initializing a BertForSequenceClassification model from a BertForSequenceClassification model).\n"
     ]
    },
    {
     "name": "stdout",
     "output_type": "stream",
     "text": [
      "Start training...\n",
      "\n",
      " Epoch  |  Batch  |  Train Loss  |  Val Loss  |  Val Acc  |  Elapsed \n",
      "----------------------------------------------------------------------\n",
      "   1    |   20    |   0.586265   |     -      |     -     |  639.81  \n",
      "   1    |   40    |   0.521605   |     -      |     -     |  594.63  \n",
      "   1    |   60    |   0.446040   |     -      |     -     |  583.66  \n",
      "   1    |   80    |   0.361266   |     -      |     -     |  597.66  \n",
      "   1    |   100   |   0.373071   |     -      |     -     |  601.30  \n",
      "   1    |   120   |   0.329789   |     -      |     -     |  603.67  \n",
      "   1    |   140   |   0.276956   |     -      |     -     |  593.18  \n",
      "   1    |   160   |   0.355732   |     -      |     -     |  589.81  \n",
      "   1    |   180   |   0.272439   |     -      |     -     |  608.70  \n",
      "   1    |   200   |   0.317466   |     -      |     -     |  586.24  \n",
      "   1    |   220   |   0.311627   |     -      |     -     |  600.21  \n",
      "   1    |   240   |   0.304207   |     -      |     -     |  629.15  \n",
      "   1    |   260   |   0.308463   |     -      |     -     |  613.22  \n",
      "   1    |   280   |   0.299752   |     -      |     -     |  601.59  \n",
      "   1    |   300   |   0.283858   |     -      |     -     |  603.60  \n",
      "   1    |   320   |   0.289045   |     -      |     -     |  599.36  \n",
      "   1    |   340   |   0.276856   |     -      |     -     |  585.36  \n",
      "   1    |   360   |   0.260511   |     -      |     -     |  613.99  \n",
      "   1    |   380   |   0.276602   |     -      |     -     |  589.90  \n",
      "   1    |   400   |   0.285063   |     -      |     -     |  604.69  \n",
      "   1    |   411   |   0.320279   |     -      |     -     |  331.26  \n",
      "----------------------------------------------------------------------\n",
      "   1    |    -    |   0.336994   |  0.271939  |   89.18   | 12660.20 \n",
      "----------------------------------------------------------------------\n",
      "\n",
      "\n",
      "Training complete!\n"
     ]
    }
   ],
   "source": [
    "set_seed(42)    # Set seed for reproducibility\n",
    "bert_classifier, optimizer, scheduler = initialize_model(epochs=1)\n",
    "train(bert_classifier, train_dataloader, val_dataloader, epochs=1, evaluation=True)"
   ]
  },
  {
   "cell_type": "markdown",
   "metadata": {},
   "source": [
    "### 3.4. Evaluation on Validation Set\n",
    "The prediction step is similar to the evaluation step that we did in the training loop, but simpler. We will perform a forward pass to compute logits and apply softmax to calculate probabilities."
   ]
  },
  {
   "cell_type": "code",
   "execution_count": 25,
   "metadata": {},
   "outputs": [],
   "source": [
    "import torch.nn.functional as F\n",
    "\n",
    "def bert_predict(model, test_dataloader):\n",
    "    \"\"\"Perform a forward pass on the trained BERT model to predict probabilities\n",
    "    on the test set.\n",
    "    \"\"\"\n",
    "    # Put the model into the evaluation mode. The dropout layers are disabled during\n",
    "    # the test time.\n",
    "    model.eval()\n",
    "\n",
    "    all_logits = []\n",
    "\n",
    "    # For each batch in our test set...\n",
    "    for batch in test_dataloader:\n",
    "        # Load batch to GPU\n",
    "        b_input_ids, b_attn_mask = tuple(t.to(device) for t in batch)[:2]\n",
    "\n",
    "        # Compute logits\n",
    "        with torch.no_grad():\n",
    "            logits = model(b_input_ids, b_attn_mask)\n",
    "        all_logits.append(logits)\n",
    "    \n",
    "    # Concatenate logits from each batch\n",
    "    all_logits = torch.cat(all_logits, dim=0)\n",
    "\n",
    "    # Apply softmax to calculate probabilities\n",
    "    probs = F.softmax(all_logits, dim=1).cpu().numpy()\n",
    "\n",
    "    return probs"
   ]
  },
  {
   "cell_type": "code",
   "execution_count": 26,
   "metadata": {},
   "outputs": [
    {
     "name": "stdout",
     "output_type": "stream",
     "text": [
      "AUC: 0.9517\n",
      "Accuracy: 89.21%\n"
     ]
    },
    {
     "data": {
      "image/png": "[encoded data removed]",
      "text/plain": [
       "<Figure size 432x288 with 1 Axes>"
      ]
     },
     "metadata": {
      "needs_background": "light"
     },
     "output_type": "display_data"
    }
   ],
   "source": [
    "# Compute predicted probabilities on the test set\n",
    "probs = bert_predict(bert_classifier, val_dataloader)\n",
    "\n",
    "# Evaluate the Bert classifier\n",
    "evaluate_roc(probs, y_val)"
   ]
  },
  {
   "cell_type": "markdown",
   "metadata": {},
   "source": [
    "The Bert Classifer achieves 0.90 AUC score and 82.65% accuracy rate on the validation set. This result is 10 points better than the baseline method."
   ]
  },
  {
   "cell_type": "markdown",
   "metadata": {},
   "source": [
    "### 3.5. Train Our Model on the Entire Training Data"
   ]
  },
  {
   "cell_type": "code",
   "execution_count": null,
   "metadata": {
    "scrolled": true
   },
   "outputs": [
    {
     "name": "stderr",
     "output_type": "stream",
     "text": [
      "Some weights of the model checkpoint at bert-base-uncased were not used when initializing BertModel: ['cls.predictions.transform.dense.weight', 'cls.predictions.transform.LayerNorm.bias', 'cls.predictions.transform.dense.bias', 'cls.seq_relationship.weight', 'cls.predictions.bias', 'cls.seq_relationship.bias', 'cls.predictions.transform.LayerNorm.weight', 'cls.predictions.decoder.weight']\n",
      "- This IS expected if you are initializing BertModel from the checkpoint of a model trained on another task or with another architecture (e.g. initializing a BertForSequenceClassification model from a BertForPreTraining model).\n",
      "- This IS NOT expected if you are initializing BertModel from the checkpoint of a model that you expect to be exactly identical (initializing a BertForSequenceClassification model from a BertForSequenceClassification model).\n"
     ]
    },
    {
     "name": "stdout",
     "output_type": "stream",
     "text": [
      "Start training...\n",
      "\n",
      " Epoch  |  Batch  |  Train Loss  |  Val Loss  |  Val Acc  |  Elapsed \n",
      "----------------------------------------------------------------------\n",
      "   1    |   20    |   0.564158   |     -      |     -     |  670.24  \n",
      "   1    |   40    |   0.429748   |     -      |     -     |  621.51  \n",
      "   1    |   60    |   0.357444   |     -      |     -     |  601.07  \n",
      "   1    |   80    |   0.359545   |     -      |     -     |  618.41  \n",
      "   1    |   100   |   0.346490   |     -      |     -     |  598.78  \n",
      "   1    |   120   |   0.394200   |     -      |     -     |  584.63  \n",
      "   1    |   140   |   0.301688   |     -      |     -     |  617.72  \n",
      "   1    |   160   |   0.330467   |     -      |     -     |  617.81  \n",
      "   1    |   180   |   0.300982   |     -      |     -     |  633.32  \n",
      "   1    |   200   |   0.319487   |     -      |     -     |  594.82  \n",
      "   1    |   220   |   0.338539   |     -      |     -     |  603.86  \n",
      "   1    |   240   |   0.290582   |     -      |     -     |  605.50  \n",
      "   1    |   260   |   0.248544   |     -      |     -     |  592.64  \n",
      "   1    |   280   |   0.311303   |     -      |     -     |  621.71  \n",
      "   1    |   300   |   0.311664   |     -      |     -     |  609.01  \n",
      "   1    |   320   |   0.253101   |     -      |     -     |  595.25  \n",
      "   1    |   340   |   0.306478   |     -      |     -     |  603.82  \n",
      "   1    |   360   |   0.343628   |     -      |     -     |  621.98  \n",
      "   1    |   380   |   0.280927   |     -      |     -     |  613.12  \n",
      "   1    |   400   |   0.263214   |     -      |     -     |  647.80  \n",
      "   1    |   420   |   0.323375   |     -      |     -     |  654.48  \n",
      "   1    |   440   |   0.317943   |     -      |     -     |  624.51  \n",
      "   1    |   457   |   0.276177   |     -      |     -     |  521.73  \n",
      "----------------------------------------------------------------------\n",
      "\n",
      "\n",
      " Epoch  |  Batch  |  Train Loss  |  Val Loss  |  Val Acc  |  Elapsed \n",
      "----------------------------------------------------------------------\n",
      "   2    |   20    |   0.151862   |     -      |     -     |  658.27  \n",
      "   2    |   40    |   0.185084   |     -      |     -     |  629.47  \n",
      "   2    |   60    |   0.168230   |     -      |     -     |  638.51  \n",
      "   2    |   80    |   0.171365   |     -      |     -     |  639.66  \n",
      "   2    |   100   |   0.163526   |     -      |     -     |  654.39  \n",
      "   2    |   120   |   0.192976   |     -      |     -     |  655.87  \n",
      "   2    |   140   |   0.175608   |     -      |     -     |  660.38  \n",
      "   2    |   160   |   0.159730   |     -      |     -     |  903.30  \n"
     ]
    }
   ],
   "source": [
    "# Concatenate the train set and the validation set\n",
    "full_train_data = torch.utils.data.ConcatDataset([train_data, val_data])\n",
    "full_train_sampler = RandomSampler(full_train_data)\n",
    "full_train_dataloader = DataLoader(full_train_data, sampler=full_train_sampler, batch_size=32)\n",
    "\n",
    "# Train the Bert Classifier on the entire training data\n",
    "set_seed(42)\n",
    "bert_classifier, optimizer, scheduler = initialize_model(epochs=2)\n",
    "train(bert_classifier, full_train_dataloader, epochs=2)"
   ]
  },
  {
   "cell_type": "markdown",
   "metadata": {},
   "source": [
    "## 4. Predictions on Test Set¶\n",
    "### 4.1. Data Preparation\n",
    "Let's revisit out test set shortly.\n",
    "\n"
   ]
  },
  {
   "cell_type": "code",
   "execution_count": null,
   "metadata": {},
   "outputs": [],
   "source": [
    "# Run `preprocessing_for_bert` on the test set\n",
    "print('Tokenizing data...')\n",
    "test_inputs, test_masks = preprocessing_for_bert(test_data.tweet)\n",
    "\n",
    "# Create the DataLoader for our test set\n",
    "test_dataset = TensorDataset(test_inputs, test_masks)\n",
    "test_sampler = SequentialSampler(test_dataset)\n",
    "test_dataloader = DataLoader(test_dataset, sampler=test_sampler, batch_size=32)"
   ]
  },
  {
   "cell_type": "markdown",
   "metadata": {},
   "source": [
    "### 4.2. Predictions\n",
    "There are about 300 non-negative tweets in our test set. Therefore, we will keep adjusting the decision threshold until we have about 300 non-negative tweets.\n",
    "\n",
    "The threshold we will use is 0.992, meaning that tweets with a predicted probability greater than 99.2% will be predicted positive. This value is very high compared to the default 0.5 threshold.\n",
    "\n",
    "After manually examining the test set, I find that the sentiment classification task here is even difficult for human. Therefore, a high threshold will give us safe predictions."
   ]
  },
  {
   "cell_type": "code",
   "execution_count": null,
   "metadata": {},
   "outputs": [],
   "source": [
    "# Compute predicted probabilities on the test set\n",
    "probs = bert_predict(bert_classifier, test_dataloader)\n",
    "\n",
    "# Get predictions from the probabilities\n",
    "threshold = 0.9\n",
    "preds = np.where(probs[:, 1] > threshold, 1, 0)\n",
    "\n",
    "# Number of tweets predicted non-negative\n",
    "print(\"Number of tweets predicted non-negative: \", preds.sum())"
   ]
  },
  {
   "cell_type": "markdown",
   "metadata": {},
   "source": [
    "Now we will examine 20 random tweets from our predictions. 17 of them are correct, showing that the BERT Classifier acquires about 0.85 precision rate."
   ]
  },
  {
   "cell_type": "code",
   "execution_count": 27,
   "metadata": {},
   "outputs": [
    {
     "ename": "NameError",
     "evalue": "name 'test_data' is not defined",
     "output_type": "error",
     "traceback": [
      "\u001b[0;31m---------------------------------------------------------------------------\u001b[0m",
      "\u001b[0;31mNameError\u001b[0m                                 Traceback (most recent call last)",
      "\u001b[0;32m<ipython-input-27-2fc93b134f02>\u001b[0m in \u001b[0;36m<module>\u001b[0;34m\u001b[0m\n\u001b[0;32m----> 1\u001b[0;31m \u001b[0moutput\u001b[0m \u001b[0;34m=\u001b[0m \u001b[0mtest_data\u001b[0m\u001b[0;34m[\u001b[0m\u001b[0mpreds\u001b[0m\u001b[0;34m==\u001b[0m\u001b[0;36m1\u001b[0m\u001b[0;34m]\u001b[0m\u001b[0;34m\u001b[0m\u001b[0;34m\u001b[0m\u001b[0m\n\u001b[0m\u001b[1;32m      2\u001b[0m \u001b[0mlist\u001b[0m\u001b[0;34m(\u001b[0m\u001b[0moutput\u001b[0m\u001b[0;34m.\u001b[0m\u001b[0msample\u001b[0m\u001b[0;34m(\u001b[0m\u001b[0;36m20\u001b[0m\u001b[0;34m)\u001b[0m\u001b[0;34m.\u001b[0m\u001b[0mtweet\u001b[0m\u001b[0;34m)\u001b[0m\u001b[0;34m\u001b[0m\u001b[0;34m\u001b[0m\u001b[0m\n",
      "\u001b[0;31mNameError\u001b[0m: name 'test_data' is not defined"
     ]
    }
   ],
   "source": [
    "output = test_data[preds==1]\n",
    "list(output.sample(20).tweet)"
   ]
  },
  {
   "cell_type": "code",
   "execution_count": null,
   "metadata": {},
   "outputs": [],
   "source": []
  }
 ],
 "metadata": {
  "kernelspec": {
   "display_name": "Python 3",
   "language": "python",
   "name": "python3"
  },
  "language_info": {
   "codemirror_mode": {
    "name": "ipython",
    "version": 3
   },
   "file_extension": ".py",
   "mimetype": "text/x-python",
   "name": "python",
   "nbconvert_exporter": "python",
   "pygments_lexer": "ipython3",
   "version": "3.8.3"
  }
 },
 "nbformat": 4,
 "nbformat_minor": 1
}
